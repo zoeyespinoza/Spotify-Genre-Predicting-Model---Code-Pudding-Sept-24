{
 "cells": [
  {
   "cell_type": "markdown",
   "metadata": {},
   "source": [
    "# Predicting Song Genres Using Spotify Data"
   ]
  },
  {
   "cell_type": "markdown",
   "metadata": {},
   "source": [
    "## Description"
   ]
  },
  {
   "cell_type": "markdown",
   "metadata": {},
   "source": [
    "This project aims to build a machine learning model that predicts the genre of a song using various metrics provided by Spotify. The goal is to create a predictive model that can  classify the genre of a song based on its features such as danceability, energy, tempo, and other characteristics. Additionally, this project will use the Spotify API to retrieve these song metrics for any new track, allowing us to make predictions on new songs."
   ]
  },
  {
   "cell_type": "markdown",
   "metadata": {},
   "source": [
    "### Workflow"
   ]
  },
  {
   "cell_type": "markdown",
   "metadata": {},
   "source": [
    "1. Collect Data\n",
    "    \n",
    "    Build a dataset within Spotify\n",
    "\n",
    "2. Preprocess Data:\n",
    "\n",
    "    Clean and preprocess dataset for model training.\n",
    "3. Train Models:\n",
    "    \n",
    "\n",
    "\n",
    "    Train models using the audio metrics as features and genre as target.\n",
    "    \n",
    "    Evaluate the model's performance using cross-validation and metrics (accuracy, F1-score).\n",
    "4. Evaluate Model Performance:\n",
    "\n",
    "    Check for the effectiveness of the model. Analyze predictios.\n",
    "5. Integrate Spotify API:\n",
    "    \n",
    "6. Make Predictions on New Songs:\n",
    "    \n",
    "    Use the trained machine learning model to predict the genre of any new song based on its Spotify audio features."
   ]
  },
  {
   "cell_type": "markdown",
   "metadata": {},
   "source": [
    "## Import Libraries"
   ]
  },
  {
   "cell_type": "code",
   "execution_count": 1,
   "metadata": {},
   "outputs": [
    {
     "name": "stderr",
     "output_type": "stream",
     "text": [
      "/Users/zoeyespinoza/anaconda3/lib/python3.10/site-packages/pandas/core/arrays/masked.py:60: UserWarning: Pandas requires version '1.3.6' or newer of 'bottleneck' (version '1.3.5' currently installed).\n",
      "  from pandas.core import (\n"
     ]
    }
   ],
   "source": [
    "import pandas as pd\n",
    "from sklearn.preprocessing import LabelEncoder, StandardScaler\n",
    "from sklearn.model_selection import train_test_split\n",
    "from sklearn.ensemble import RandomForestClassifier, GradientBoostingClassifier\n",
    "from sklearn.svm import SVC\n",
    "from sklearn.decomposition import PCA\n",
    "\n",
    "from sklearn.metrics import classification_report\n",
    "\n",
    "from sklearn.model_selection import GridSearchCV\n"
   ]
  },
  {
   "cell_type": "markdown",
   "metadata": {
    "vscode": {
     "languageId": "plaintext"
    }
   },
   "source": [
    "## Spotify API Setup"
   ]
  },
  {
   "cell_type": "code",
   "execution_count": 2,
   "metadata": {},
   "outputs": [
    {
     "name": "stdout",
     "output_type": "stream",
     "text": [
      "{'tracks': {'href': 'https://api.spotify.com/v1/search?query=breath+away&type=track&offset=0&limit=1', 'items': [{'album': {'album_type': 'album', 'artists': [{'external_urls': {'spotify': 'https://open.spotify.com/artist/0PCCGZ0wGLizHt2KZ7hhA2'}, 'href': 'https://api.spotify.com/v1/artists/0PCCGZ0wGLizHt2KZ7hhA2', 'id': '0PCCGZ0wGLizHt2KZ7hhA2', 'name': 'Artemas', 'type': 'artist', 'uri': 'spotify:artist:0PCCGZ0wGLizHt2KZ7hhA2'}], 'available_markets': ['AR', 'AU', 'AT', 'BE', 'BO', 'BR', 'BG', 'CA', 'CL', 'CO', 'CR', 'CY', 'CZ', 'DK', 'DO', 'DE', 'EC', 'EE', 'SV', 'FI', 'FR', 'GR', 'GT', 'HN', 'HK', 'HU', 'IS', 'IE', 'IT', 'LV', 'LT', 'LU', 'MY', 'MT', 'MX', 'NL', 'NZ', 'NI', 'NO', 'PA', 'PY', 'PE', 'PH', 'PL', 'PT', 'SG', 'SK', 'ES', 'SE', 'CH', 'TW', 'TR', 'UY', 'US', 'GB', 'AD', 'LI', 'MC', 'ID', 'JP', 'TH', 'VN', 'RO', 'IL', 'ZA', 'SA', 'AE', 'BH', 'QA', 'OM', 'KW', 'EG', 'MA', 'DZ', 'TN', 'LB', 'JO', 'PS', 'IN', 'KZ', 'MD', 'UA', 'AL', 'BA', 'HR', 'ME', 'MK', 'RS', 'SI', 'KR', 'BD', 'PK', 'LK', 'GH', 'KE', 'NG', 'TZ', 'UG', 'AG', 'AM', 'BS', 'BB', 'BZ', 'BT', 'BW', 'BF', 'CV', 'CW', 'DM', 'FJ', 'GM', 'GE', 'GD', 'GW', 'GY', 'HT', 'JM', 'KI', 'LS', 'LR', 'MW', 'MV', 'ML', 'MH', 'FM', 'NA', 'NR', 'NE', 'PW', 'PG', 'PR', 'WS', 'SM', 'ST', 'SN', 'SC', 'SL', 'SB', 'KN', 'LC', 'VC', 'SR', 'TL', 'TO', 'TT', 'TV', 'VU', 'AZ', 'BN', 'BI', 'KH', 'CM', 'TD', 'KM', 'GQ', 'SZ', 'GA', 'GN', 'KG', 'LA', 'MO', 'MR', 'MN', 'NP', 'RW', 'TG', 'UZ', 'ZW', 'BJ', 'MG', 'MU', 'MZ', 'AO', 'CI', 'DJ', 'ZM', 'CD', 'CG', 'IQ', 'LY', 'TJ', 'VE', 'ET', 'XK'], 'external_urls': {'spotify': 'https://open.spotify.com/album/2xpgb8R0BXVS2e1XnXI9xZ'}, 'href': 'https://api.spotify.com/v1/albums/2xpgb8R0BXVS2e1XnXI9xZ', 'id': '2xpgb8R0BXVS2e1XnXI9xZ', 'images': [{'height': 640, 'url': 'https://i.scdn.co/image/ab67616d0000b273fabe0943f6dd962a792b42a1', 'width': 640}, {'height': 300, 'url': 'https://i.scdn.co/image/ab67616d00001e02fabe0943f6dd962a792b42a1', 'width': 300}, {'height': 64, 'url': 'https://i.scdn.co/image/ab67616d00004851fabe0943f6dd962a792b42a1', 'width': 64}], 'name': 'pretty', 'release_date': '2024-02-09', 'release_date_precision': 'day', 'total_tracks': 13, 'type': 'album', 'uri': 'spotify:album:2xpgb8R0BXVS2e1XnXI9xZ'}, 'artists': [{'external_urls': {'spotify': 'https://open.spotify.com/artist/0PCCGZ0wGLizHt2KZ7hhA2'}, 'href': 'https://api.spotify.com/v1/artists/0PCCGZ0wGLizHt2KZ7hhA2', 'id': '0PCCGZ0wGLizHt2KZ7hhA2', 'name': 'Artemas', 'type': 'artist', 'uri': 'spotify:artist:0PCCGZ0wGLizHt2KZ7hhA2'}], 'available_markets': ['AR', 'AU', 'AT', 'BE', 'BO', 'BR', 'BG', 'CA', 'CL', 'CO', 'CR', 'CY', 'CZ', 'DK', 'DO', 'DE', 'EC', 'EE', 'SV', 'FI', 'FR', 'GR', 'GT', 'HN', 'HK', 'HU', 'IS', 'IE', 'IT', 'LV', 'LT', 'LU', 'MY', 'MT', 'MX', 'NL', 'NZ', 'NI', 'NO', 'PA', 'PY', 'PE', 'PH', 'PL', 'PT', 'SG', 'SK', 'ES', 'SE', 'CH', 'TW', 'TR', 'UY', 'US', 'GB', 'AD', 'LI', 'MC', 'ID', 'JP', 'TH', 'VN', 'RO', 'IL', 'ZA', 'SA', 'AE', 'BH', 'QA', 'OM', 'KW', 'EG', 'MA', 'DZ', 'TN', 'LB', 'JO', 'PS', 'IN', 'KZ', 'MD', 'UA', 'AL', 'BA', 'HR', 'ME', 'MK', 'RS', 'SI', 'KR', 'BD', 'PK', 'LK', 'GH', 'KE', 'NG', 'TZ', 'UG', 'AG', 'AM', 'BS', 'BB', 'BZ', 'BT', 'BW', 'BF', 'CV', 'CW', 'DM', 'FJ', 'GM', 'GE', 'GD', 'GW', 'GY', 'HT', 'JM', 'KI', 'LS', 'LR', 'MW', 'MV', 'ML', 'MH', 'FM', 'NA', 'NR', 'NE', 'PW', 'PG', 'PR', 'WS', 'SM', 'ST', 'SN', 'SC', 'SL', 'SB', 'KN', 'LC', 'VC', 'SR', 'TL', 'TO', 'TT', 'TV', 'VU', 'AZ', 'BN', 'BI', 'KH', 'CM', 'TD', 'KM', 'GQ', 'SZ', 'GA', 'GN', 'KG', 'LA', 'MO', 'MR', 'MN', 'NP', 'RW', 'TG', 'UZ', 'ZW', 'BJ', 'MG', 'MU', 'MZ', 'AO', 'CI', 'DJ', 'ZM', 'CD', 'CG', 'IQ', 'LY', 'TJ', 'VE', 'ET', 'XK'], 'disc_number': 1, 'duration_ms': 166849, 'explicit': True, 'external_ids': {'isrc': 'QZJ842400058'}, 'external_urls': {'spotify': 'https://open.spotify.com/track/1oic0Wedm3XeHxwaxmwO91'}, 'href': 'https://api.spotify.com/v1/tracks/1oic0Wedm3XeHxwaxmwO91', 'id': '1oic0Wedm3XeHxwaxmwO91', 'is_local': False, 'name': 'breath away', 'popularity': 57, 'preview_url': 'https://p.scdn.co/mp3-preview/b0dc83d0faf3100f0f159783ee7d9b993980ecef?cid=4e94c7a00ce841cb97a1eb6b94715735', 'track_number': 10, 'type': 'track', 'uri': 'spotify:track:1oic0Wedm3XeHxwaxmwO91'}], 'limit': 1, 'next': 'https://api.spotify.com/v1/search?query=breath+away&type=track&offset=1&limit=1', 'offset': 0, 'previous': None, 'total': 999}}\n"
     ]
    }
   ],
   "source": [
    "import spotipy\n",
    "from spotipy.oauth2 import SpotifyClientCredentials\n",
    "from spotipy.exceptions import SpotifyException\n",
    "\n",
    "\n",
    "client_id = \"4e94c7a00ce841cb97a1eb6b94715735\"\n",
    "client_secret = \"023e76405fdc4e68af511d30ef91d172\"\n",
    "\n",
    "# Authenticate with Spotify API\n",
    "sp = spotipy.Spotify(auth_manager=SpotifyClientCredentials(client_id=client_id, client_secret=client_secret))\n",
    "\n",
    "# Test\n",
    "result = sp.search(q='breath away', type='track', limit=1)\n",
    "print(result)\n"
   ]
  },
  {
   "cell_type": "markdown",
   "metadata": {},
   "source": [
    "### Retreive Audio Features"
   ]
  },
  {
   "cell_type": "code",
   "execution_count": 3,
   "metadata": {},
   "outputs": [
    {
     "name": "stdout",
     "output_type": "stream",
     "text": [
      "{'danceability': 0.694, 'energy': 0.712, 'key': 11, 'loudness': -6.522, 'mode': 0, 'speechiness': 0.0759, 'acousticness': 0.707, 'instrumentalness': 0.0202, 'liveness': 0.263, 'valence': 0.233, 'tempo': 146.015, 'type': 'audio_features', 'id': '1oic0Wedm3XeHxwaxmwO91', 'uri': 'spotify:track:1oic0Wedm3XeHxwaxmwO91', 'track_href': 'https://api.spotify.com/v1/tracks/1oic0Wedm3XeHxwaxmwO91', 'analysis_url': 'https://api.spotify.com/v1/audio-analysis/1oic0Wedm3XeHxwaxmwO91', 'duration_ms': 166849, 'time_signature': 4}\n"
     ]
    }
   ],
   "source": [
    "def get_audio_features(track_id):\n",
    "    # get audio features for a specific track\n",
    "    features = sp.audio_features([track_id])\n",
    "    return features[0] \n",
    "\n",
    "track_id = result['tracks']['items'][0]['id']\n",
    "audio_features = get_audio_features(track_id)\n",
    "print(audio_features)\n"
   ]
  },
  {
   "cell_type": "markdown",
   "metadata": {},
   "source": [
    "## Building a Dataset"
   ]
  },
  {
   "cell_type": "code",
   "execution_count": 5,
   "metadata": {},
   "outputs": [
    {
     "name": "stdout",
     "output_type": "stream",
     "text": [
      "Collecting songs for genre: pop\n",
      "Collecting songs for genre: rock\n",
      "Collecting songs for genre: jazz\n",
      "Collecting songs for genre: classical\n",
      "Collecting songs for genre: hip-hop\n",
      "Collecting songs for genre: metal\n",
      "Collecting songs for genre: reggae\n",
      "Collecting songs for genre: blues\n",
      "Collecting songs for genre: country\n",
      "Collecting songs for genre: edm\n",
      "Collecting songs for genre: latin\n",
      "Collecting songs for genre: soul\n",
      "Collecting songs for genre: punk\n",
      "Collecting songs for genre: folk\n",
      "Collecting songs for genre: funk\n",
      "Collecting songs for genre: indie\n",
      "Collecting songs for genre: disco\n",
      "Collecting songs for genre: r&b\n",
      "Collecting songs for genre: gospel\n",
      "Collecting songs for genre: alternative\n",
      "   danceability  energy  key  loudness  mode  speechiness  acousticness  \\\n",
      "0         0.700   0.582   11    -5.960     0       0.0356        0.0502   \n",
      "1         0.747   0.507    2   -10.171     1       0.0358        0.2000   \n",
      "2         0.521   0.592    6    -7.777     0       0.0304        0.3080   \n",
      "3         0.674   0.907    3    -4.086     1       0.0640        0.1010   \n",
      "4         0.669   0.586    9    -6.073     1       0.0540        0.2740   \n",
      "\n",
      "   instrumentalness  liveness  valence    tempo            type  \\\n",
      "0            0.0000    0.0881    0.785  116.712  audio_features   \n",
      "1            0.0608    0.1170    0.438  104.978  audio_features   \n",
      "2            0.0000    0.1220    0.535  157.969  audio_features   \n",
      "3            0.0000    0.2970    0.721  112.964  audio_features   \n",
      "4            0.0000    0.1040    0.579  107.071  audio_features   \n",
      "\n",
      "                       id                                   uri  \\\n",
      "0  0WbMK4wrZ1wFSty9F7FCgu  spotify:track:0WbMK4wrZ1wFSty9F7FCgu   \n",
      "1  6dOtVTDdiauQNBQEDOtlAB  spotify:track:6dOtVTDdiauQNBQEDOtlAB   \n",
      "2  2plbrEY59IikOBgBGLjaoe  spotify:track:2plbrEY59IikOBgBGLjaoe   \n",
      "3  5G2f63n7IPVPPjfNIGih7Q  spotify:track:5G2f63n7IPVPPjfNIGih7Q   \n",
      "4  5N3hjp1WNayUPZrA8kJmJP  spotify:track:5N3hjp1WNayUPZrA8kJmJP   \n",
      "\n",
      "                                          track_href  \\\n",
      "0  https://api.spotify.com/v1/tracks/0WbMK4wrZ1wF...   \n",
      "1  https://api.spotify.com/v1/tracks/6dOtVTDdiauQ...   \n",
      "2  https://api.spotify.com/v1/tracks/2plbrEY59Iik...   \n",
      "3  https://api.spotify.com/v1/tracks/5G2f63n7IPVP...   \n",
      "4  https://api.spotify.com/v1/tracks/5N3hjp1WNayU...   \n",
      "\n",
      "                                        analysis_url  duration_ms  \\\n",
      "0  https://api.spotify.com/v1/audio-analysis/0WbM...       218424   \n",
      "1  https://api.spotify.com/v1/audio-analysis/6dOt...       210373   \n",
      "2  https://api.spotify.com/v1/audio-analysis/2plb...       251668   \n",
      "3  https://api.spotify.com/v1/audio-analysis/5G2f...       157280   \n",
      "4  https://api.spotify.com/v1/audio-analysis/5N3h...       186365   \n",
      "\n",
      "   time_signature genre  \n",
      "0               4   pop  \n",
      "1               4   pop  \n",
      "2               3   pop  \n",
      "3               4   pop  \n",
      "4               4   pop  \n"
     ]
    }
   ],
   "source": [
    "def search_songs_by_genre(genre, limit=10):\n",
    "    songs_data = []\n",
    "    results = sp.search(q=f'genre:{genre}', type='track', limit=limit)\n",
    "    \n",
    "    for track in results['tracks']['items']:\n",
    "        track_id = track['id']\n",
    "        audio_features = get_audio_features(track_id)\n",
    "        if audio_features:\n",
    "            audio_features['genre'] = genre\n",
    "            songs_data.append(audio_features)\n",
    "    \n",
    "    return songs_data\n",
    "\n",
    "# List of 20 genres\n",
    "genres = [\n",
    "    'pop', 'rock', 'jazz', 'classical', 'hip-hop', 'metal', 'reggae', 'blues',\n",
    "    'country', 'edm', 'latin', 'soul', 'punk', 'folk', 'funk', 'indie', 'disco',\n",
    "    'r&b', 'gospel', 'alternative'\n",
    "]\n",
    "\n",
    "all_songs_data = []\n",
    "\n",
    "for genre in genres:\n",
    "    print(f\"Collecting songs for genre: {genre}\")\n",
    "    genre_songs = search_songs_by_genre(genre, limit=50)  \n",
    "    all_songs_data.extend(genre_songs)\n",
    "\n",
    "df = pd.DataFrame(all_songs_data)\n",
    "\n",
    "print(df.head())  "
   ]
  },
  {
   "cell_type": "code",
   "execution_count": 11,
   "metadata": {},
   "outputs": [],
   "source": [
    "df.to_csv('genres.csv', index=False)"
   ]
  },
  {
   "cell_type": "markdown",
   "metadata": {},
   "source": [
    "## Data Preprocessing"
   ]
  },
  {
   "cell_type": "code",
   "execution_count": 12,
   "metadata": {},
   "outputs": [],
   "source": [
    "def preprocess_data(df):\n",
    "    df = df.drop(['id', 'uri', 'track_href', 'analysis_url', 'type'], axis=1)\n",
    "    \n",
    "    df = df.dropna()\n",
    "    \n",
    "    # Label encode the genre column\n",
    "    label_encoder = LabelEncoder()\n",
    "    df['genre'] = label_encoder.fit_transform(df['genre'])\n",
    "    \n",
    "    \n",
    "    X = df.drop(['genre'], axis=1)\n",
    "    y = df['genre']\n",
    "    \n",
    "    # Normalize  feature values\n",
    "    scaler = StandardScaler()\n",
    "    X_scaled = scaler.fit_transform(X)\n",
    "    \n",
    "    return X_scaled, y, label_encoder\n",
    "\n",
    "X, y, label_encoder = preprocess_data(df)\n"
   ]
  },
  {
   "cell_type": "markdown",
   "metadata": {},
   "source": [
    "## Train Machine Learning Model\n"
   ]
  },
  {
   "cell_type": "code",
   "execution_count": 13,
   "metadata": {},
   "outputs": [
    {
     "name": "stdout",
     "output_type": "stream",
     "text": [
      "Training Random Forest...\n",
      "Classification Report for Random Forest:\n",
      "              precision    recall  f1-score   support\n",
      "\n",
      " alternative       0.00      0.00      0.00        15\n",
      "       blues       0.00      0.00      0.00        16\n",
      "   classical       0.64      0.70      0.67        10\n",
      "     country       0.11      0.27      0.16        11\n",
      "       disco       0.54      0.44      0.48        16\n",
      "         edm       0.12      0.15      0.14        13\n",
      "        folk       0.18      0.12      0.14        17\n",
      "        funk       0.15      0.25      0.19        12\n",
      "      gospel       0.65      0.55      0.59        20\n",
      "     hip-hop       0.25      0.18      0.21        17\n",
      "       indie       0.00      0.00      0.00        11\n",
      "        jazz       0.13      0.20      0.16        10\n",
      "       latin       0.16      0.16      0.16        19\n",
      "       metal       0.09      0.05      0.06        20\n",
      "         pop       0.25      0.20      0.22        15\n",
      "        punk       0.25      0.38      0.30        13\n",
      "         r&b       0.11      0.08      0.09        13\n",
      "      reggae       0.22      0.28      0.24        18\n",
      "        rock       0.00      0.00      0.00        20\n",
      "        soul       0.11      0.07      0.09        14\n",
      "\n",
      "    accuracy                           0.20       300\n",
      "   macro avg       0.20      0.20      0.20       300\n",
      "weighted avg       0.20      0.20      0.19       300\n",
      "\n",
      "Training Support Vector Machine (SVM)...\n",
      "Classification Report for Support Vector Machine (SVM):\n",
      "              precision    recall  f1-score   support\n",
      "\n",
      " alternative       0.00      0.00      0.00        15\n",
      "       blues       0.00      0.00      0.00        16\n",
      "   classical       0.80      0.80      0.80        10\n",
      "     country       0.15      0.45      0.22        11\n",
      "       disco       0.40      0.38      0.39        16\n",
      "         edm       0.12      0.23      0.16        13\n",
      "        folk       0.29      0.12      0.17        17\n",
      "        funk       0.10      0.25      0.15        12\n",
      "      gospel       0.75      0.30      0.43        20\n",
      "     hip-hop       0.38      0.29      0.33        17\n",
      "       indie       0.00      0.00      0.00        11\n",
      "        jazz       0.11      0.20      0.14        10\n",
      "       latin       0.29      0.32      0.30        19\n",
      "       metal       0.18      0.10      0.13        20\n",
      "         pop       0.22      0.27      0.24        15\n",
      "        punk       0.19      0.38      0.25        13\n",
      "         r&b       0.33      0.23      0.27        13\n",
      "      reggae       0.30      0.17      0.21        18\n",
      "        rock       0.00      0.00      0.00        20\n",
      "        soul       0.09      0.07      0.08        14\n",
      "\n",
      "    accuracy                           0.21       300\n",
      "   macro avg       0.24      0.23      0.21       300\n",
      "weighted avg       0.24      0.21      0.21       300\n",
      "\n",
      "Training Gradient Boosting...\n",
      "Classification Report for Gradient Boosting:\n",
      "              precision    recall  f1-score   support\n",
      "\n",
      " alternative       0.05      0.07      0.06        15\n",
      "       blues       0.08      0.06      0.07        16\n",
      "   classical       0.70      0.70      0.70        10\n",
      "     country       0.04      0.09      0.06        11\n",
      "       disco       0.33      0.19      0.24        16\n",
      "         edm       0.21      0.23      0.22        13\n",
      "        folk       0.30      0.18      0.22        17\n",
      "        funk       0.15      0.33      0.21        12\n",
      "      gospel       0.62      0.50      0.56        20\n",
      "     hip-hop       0.43      0.18      0.25        17\n",
      "       indie       0.05      0.09      0.07        11\n",
      "        jazz       0.22      0.40      0.29        10\n",
      "       latin       0.12      0.11      0.11        19\n",
      "       metal       0.12      0.10      0.11        20\n",
      "         pop       0.11      0.07      0.08        15\n",
      "        punk       0.24      0.31      0.27        13\n",
      "         r&b       0.17      0.15      0.16        13\n",
      "      reggae       0.17      0.17      0.17        18\n",
      "        rock       0.00      0.00      0.00        20\n",
      "        soul       0.06      0.07      0.07        14\n",
      "\n",
      "    accuracy                           0.19       300\n",
      "   macro avg       0.21      0.20      0.20       300\n",
      "weighted avg       0.21      0.19      0.19       300\n",
      "\n"
     ]
    }
   ],
   "source": [
    "X_train, X_test, y_train, y_test = train_test_split(X, y, test_size=0.3, random_state=42)\n",
    "\n",
    "models = {\n",
    "    \"Random Forest\": RandomForestClassifier(n_estimators=100, random_state=42),\n",
    "    \"Support Vector Machine (SVM)\": SVC(kernel='linear'),  # You can also try 'rbf' kernel\n",
    "    \"Gradient Boosting\": GradientBoostingClassifier(n_estimators=100, random_state=42)\n",
    "}\n",
    "\n",
    "model_performance = {}\n",
    "\n",
    "for model_name, model in models.items():\n",
    "    print(f\"Training {model_name}...\")\n",
    "    model.fit(X_train, y_train)  \n",
    "    y_pred = model.predict(X_test)  \n",
    "    \n",
    "    # Generate classification report\n",
    "    print(f\"Classification Report for {model_name}:\")\n",
    "    report = classification_report(y_test, y_pred, target_names=label_encoder.classes_)\n",
    "    print(report)\n",
    "    \n",
    "    model_performance[model_name] = report\n"
   ]
  },
  {
   "cell_type": "code",
   "execution_count": 14,
   "metadata": {},
   "outputs": [
    {
     "name": "stdout",
     "output_type": "stream",
     "text": [
      "Random Forest Classification Report:\n",
      "              precision    recall  f1-score   support\n",
      "\n",
      " alternative       0.00      0.00      0.00        15\n",
      "       blues       0.00      0.00      0.00        16\n",
      "   classical       0.64      0.70      0.67        10\n",
      "     country       0.11      0.27      0.16        11\n",
      "       disco       0.54      0.44      0.48        16\n",
      "         edm       0.12      0.15      0.14        13\n",
      "        folk       0.18      0.12      0.14        17\n",
      "        funk       0.15      0.25      0.19        12\n",
      "      gospel       0.65      0.55      0.59        20\n",
      "     hip-hop       0.25      0.18      0.21        17\n",
      "       indie       0.00      0.00      0.00        11\n",
      "        jazz       0.13      0.20      0.16        10\n",
      "       latin       0.16      0.16      0.16        19\n",
      "       metal       0.09      0.05      0.06        20\n",
      "         pop       0.25      0.20      0.22        15\n",
      "        punk       0.25      0.38      0.30        13\n",
      "         r&b       0.11      0.08      0.09        13\n",
      "      reggae       0.22      0.28      0.24        18\n",
      "        rock       0.00      0.00      0.00        20\n",
      "        soul       0.11      0.07      0.09        14\n",
      "\n",
      "    accuracy                           0.20       300\n",
      "   macro avg       0.20      0.20      0.20       300\n",
      "weighted avg       0.20      0.20      0.19       300\n",
      "\n",
      "Gradient Boosting Classification Report:\n",
      "              precision    recall  f1-score   support\n",
      "\n",
      " alternative       0.05      0.07      0.06        15\n",
      "       blues       0.08      0.06      0.07        16\n",
      "   classical       0.70      0.70      0.70        10\n",
      "     country       0.04      0.09      0.06        11\n",
      "       disco       0.33      0.19      0.24        16\n",
      "         edm       0.21      0.23      0.22        13\n",
      "        folk       0.30      0.18      0.22        17\n",
      "        funk       0.15      0.33      0.21        12\n",
      "      gospel       0.62      0.50      0.56        20\n",
      "     hip-hop       0.43      0.18      0.25        17\n",
      "       indie       0.05      0.09      0.07        11\n",
      "        jazz       0.22      0.40      0.29        10\n",
      "       latin       0.12      0.11      0.11        19\n",
      "       metal       0.12      0.10      0.11        20\n",
      "         pop       0.11      0.07      0.08        15\n",
      "        punk       0.24      0.31      0.27        13\n",
      "         r&b       0.17      0.15      0.16        13\n",
      "      reggae       0.17      0.17      0.17        18\n",
      "        rock       0.00      0.00      0.00        20\n",
      "        soul       0.06      0.07      0.07        14\n",
      "\n",
      "    accuracy                           0.19       300\n",
      "   macro avg       0.21      0.20      0.20       300\n",
      "weighted avg       0.21      0.19      0.19       300\n",
      "\n"
     ]
    }
   ],
   "source": [
    "# Random Forest\n",
    "model_rf = RandomForestClassifier(n_estimators=100, random_state=42)\n",
    "model_rf.fit(X_train, y_train)\n",
    "y_pred_rf = model_rf.predict(X_test)\n",
    "print(\"Random Forest Classification Report:\")\n",
    "print(classification_report(y_test, y_pred_rf, target_names=label_encoder.classes_))\n",
    "\n",
    "# Gradient Boosting\n",
    "model_gb = GradientBoostingClassifier(n_estimators=100, random_state=42)\n",
    "model_gb.fit(X_train, y_train)\n",
    "y_pred_gb = model_gb.predict(X_test)\n",
    "print(\"Gradient Boosting Classification Report:\")\n",
    "print(classification_report(y_test, y_pred_gb, target_names=label_encoder.classes_))\n"
   ]
  },
  {
   "cell_type": "code",
   "execution_count": 15,
   "metadata": {},
   "outputs": [
    {
     "name": "stdout",
     "output_type": "stream",
     "text": [
      "SVM with PCA Classification Report:\n",
      "              precision    recall  f1-score   support\n",
      "\n",
      " alternative       0.18      0.20      0.19        15\n",
      "       blues       0.00      0.00      0.00        16\n",
      "   classical       0.75      0.60      0.67        10\n",
      "     country       0.14      0.45      0.21        11\n",
      "       disco       0.33      0.25      0.29        16\n",
      "         edm       0.11      0.15      0.12        13\n",
      "        folk       0.40      0.24      0.30        17\n",
      "        funk       0.11      0.33      0.17        12\n",
      "      gospel       0.89      0.40      0.55        20\n",
      "     hip-hop       0.24      0.24      0.24        17\n",
      "       indie       0.00      0.00      0.00        11\n",
      "        jazz       0.11      0.20      0.14        10\n",
      "       latin       0.14      0.11      0.12        19\n",
      "       metal       0.20      0.10      0.13        20\n",
      "         pop       0.25      0.27      0.26        15\n",
      "        punk       0.22      0.46      0.30        13\n",
      "         r&b       0.33      0.15      0.21        13\n",
      "      reggae       0.33      0.39      0.36        18\n",
      "        rock       0.00      0.00      0.00        20\n",
      "        soul       0.00      0.00      0.00        14\n",
      "\n",
      "    accuracy                           0.22       300\n",
      "   macro avg       0.24      0.23      0.21       300\n",
      "weighted avg       0.24      0.22      0.21       300\n",
      "\n"
     ]
    }
   ],
   "source": [
    "pca = PCA(n_components=10)\n",
    "X_train_pca = pca.fit_transform(X_train)\n",
    "X_test_pca = pca.transform(X_test)\n",
    "\n",
    "model_svm_pca = SVC(kernel='linear')\n",
    "model_svm_pca.fit(X_train_pca, y_train)\n",
    "y_pred_svm_pca = model_svm_pca.predict(X_test_pca)\n",
    "\n",
    "print(\"SVM with PCA Classification Report:\")\n",
    "print(classification_report(y_test, y_pred_svm_pca, target_names=label_encoder.classes_))\n"
   ]
  },
  {
   "cell_type": "code",
   "execution_count": 16,
   "metadata": {},
   "outputs": [
    {
     "name": "stdout",
     "output_type": "stream",
     "text": [
      "Random Forest with Class Weights Classification Report:\n",
      "              precision    recall  f1-score   support\n",
      "\n",
      " alternative       0.00      0.00      0.00        15\n",
      "       blues       0.00      0.00      0.00        16\n",
      "   classical       0.75      0.90      0.82        10\n",
      "     country       0.08      0.18      0.11        11\n",
      "       disco       0.58      0.44      0.50        16\n",
      "         edm       0.21      0.38      0.27        13\n",
      "        folk       0.33      0.18      0.23        17\n",
      "        funk       0.27      0.33      0.30        12\n",
      "      gospel       0.69      0.55      0.61        20\n",
      "     hip-hop       0.33      0.24      0.28        17\n",
      "       indie       0.00      0.00      0.00        11\n",
      "        jazz       0.14      0.20      0.17        10\n",
      "       latin       0.21      0.26      0.23        19\n",
      "       metal       0.15      0.10      0.12        20\n",
      "         pop       0.25      0.20      0.22        15\n",
      "        punk       0.21      0.31      0.25        13\n",
      "         r&b       0.11      0.08      0.09        13\n",
      "      reggae       0.15      0.17      0.16        18\n",
      "        rock       0.00      0.00      0.00        20\n",
      "        soul       0.09      0.07      0.08        14\n",
      "\n",
      "    accuracy                           0.22       300\n",
      "   macro avg       0.23      0.23      0.22       300\n",
      "weighted avg       0.23      0.22      0.22       300\n",
      "\n"
     ]
    }
   ],
   "source": [
    "# Random Forest with class weights\n",
    "model_rf_weighted = RandomForestClassifier(n_estimators=100, random_state=42, class_weight='balanced')\n",
    "model_rf_weighted.fit(X_train, y_train)\n",
    "y_pred_rf_weighted = model_rf_weighted.predict(X_test)\n",
    "\n",
    "print(\"Random Forest with Class Weights Classification Report:\")\n",
    "print(classification_report(y_test, y_pred_rf_weighted, target_names=label_encoder.classes_))\n"
   ]
  },
  {
   "cell_type": "markdown",
   "metadata": {},
   "source": [
    "# Conclusions"
   ]
  },
  {
   "cell_type": "code",
   "execution_count": 8,
   "metadata": {},
   "outputs": [
    {
     "name": "stderr",
     "output_type": "stream",
     "text": [
      "Max Retries reached\n"
     ]
    },
    {
     "ename": "SpotifyException",
     "evalue": "http status: 429, code:-1 - /v1/audio-features/?ids=6xsEAm6w9oMQYYg3jkEkMT,466s1BacUmiRdR3ISvNjyx,22VdIZQfgXJea34mQxlt81,6wDviYDtmSDZ0S6TVMM9Vc,1OOtq8tRnDM8kG2gqUPjAj,3S2R0EVwBSAVMd5UMgKTL0,4uLU6hMCjMI75M1A2tKUQC,30UFKKWSOC2Xr6KfWcyvsI,0pdfN7nOHMYmKykzu1cyfm,3whrwq4DtvucphBPUogRuJ,3bsycjdQtbcJeR6822SBvd,1ve0SgTZkv3wdggJLqtBYU,5vlEg2fT4cFWAqU5QptIpQ,2F1fnE1a8zQCogM6jJifHH,57bgtoPSgt236HzfBOd8kj,0EMmVUYs9ZZRHtlADB88uz,0q21FNwES2bbtcduB6kjEU,7tlcsqahVxD2kkTMzKBVXD,4aapF01SjrSPovA6vjU1JW,7iDa6hUg2VgEL1o1HjmfBn,4hTZNimQzSOpFI1NljSFEA,6Ex1as5AIibDGYpVJe18QR,4Sib57MmYGJzSvkW84jTwh,2eQKwLqZ0t1hIBsYwsAedh,6P4d1NWBCNIYZjzF9k1mVN,1hGy2eLcmC8eKx7qr1tOqx,2yPoXCs7BSIUrucMdK5PzV,4DvhkX2ic4zWkQeWMwQ2qf,5ChkMS8OtdzJeqyybCc9R5,7EFVJfuaqhIIvzNHZpEpth,5zA8vzDGqPl2AzZkEYQGKh,1YaK2hxBcOHFQXKfeSA3Oh,4NtUY5IGzHCaqfZemmAu56,1TwLKNsCnhi1HxbIi4bAW0,4w0ezrWpegj1GHJ45y0kXc,2QJnTfMpNG05KFf2E3gVIJ,4VdgVYzrI5lmh6zC9BzNOO,1jgmL1VK9U7XyKIOfVBbqJ,0RJWhctsc1G1Hg3Ov2th7x,20I6sIOMTCkB6w7ryavxtO,3oTlkzk1OtrhH8wBAduVEi,1G391cbiT3v3Cywg8T7DM1,4PrMtqNCkVtMrD8Rzp4OmN,0wagV3icLdCE7uP7rjyOfY,131OLY5J8XyfGuSjXRiTRM,6nCDnzErqalOaIY3EJM8NK,6tXjP6xgPJ7Xr1igrO6bOE,2Iib2MV3ECFJAourgP9dlY,7rcF9Sx3vjKE2UBvNx2Ml1,14EgW52HVqnLHd30bgbPxg:\n Max Retries, reason: too many 429 error responses",
     "output_type": "error",
     "traceback": [
      "\u001b[0;31m---------------------------------------------------------------------------\u001b[0m",
      "\u001b[0;31mMaxRetryError\u001b[0m                             Traceback (most recent call last)",
      "File \u001b[0;32m~/opt/anaconda3/lib/python3.8/site-packages/requests/adapters.py:667\u001b[0m, in \u001b[0;36mHTTPAdapter.send\u001b[0;34m(self, request, stream, timeout, verify, cert, proxies)\u001b[0m\n\u001b[1;32m    666\u001b[0m \u001b[38;5;28;01mtry\u001b[39;00m:\n\u001b[0;32m--> 667\u001b[0m     resp \u001b[38;5;241m=\u001b[39m \u001b[43mconn\u001b[49m\u001b[38;5;241;43m.\u001b[39;49m\u001b[43murlopen\u001b[49m\u001b[43m(\u001b[49m\n\u001b[1;32m    668\u001b[0m \u001b[43m        \u001b[49m\u001b[43mmethod\u001b[49m\u001b[38;5;241;43m=\u001b[39;49m\u001b[43mrequest\u001b[49m\u001b[38;5;241;43m.\u001b[39;49m\u001b[43mmethod\u001b[49m\u001b[43m,\u001b[49m\n\u001b[1;32m    669\u001b[0m \u001b[43m        \u001b[49m\u001b[43murl\u001b[49m\u001b[38;5;241;43m=\u001b[39;49m\u001b[43murl\u001b[49m\u001b[43m,\u001b[49m\n\u001b[1;32m    670\u001b[0m \u001b[43m        \u001b[49m\u001b[43mbody\u001b[49m\u001b[38;5;241;43m=\u001b[39;49m\u001b[43mrequest\u001b[49m\u001b[38;5;241;43m.\u001b[39;49m\u001b[43mbody\u001b[49m\u001b[43m,\u001b[49m\n\u001b[1;32m    671\u001b[0m \u001b[43m        \u001b[49m\u001b[43mheaders\u001b[49m\u001b[38;5;241;43m=\u001b[39;49m\u001b[43mrequest\u001b[49m\u001b[38;5;241;43m.\u001b[39;49m\u001b[43mheaders\u001b[49m\u001b[43m,\u001b[49m\n\u001b[1;32m    672\u001b[0m \u001b[43m        \u001b[49m\u001b[43mredirect\u001b[49m\u001b[38;5;241;43m=\u001b[39;49m\u001b[38;5;28;43;01mFalse\u001b[39;49;00m\u001b[43m,\u001b[49m\n\u001b[1;32m    673\u001b[0m \u001b[43m        \u001b[49m\u001b[43massert_same_host\u001b[49m\u001b[38;5;241;43m=\u001b[39;49m\u001b[38;5;28;43;01mFalse\u001b[39;49;00m\u001b[43m,\u001b[49m\n\u001b[1;32m    674\u001b[0m \u001b[43m        \u001b[49m\u001b[43mpreload_content\u001b[49m\u001b[38;5;241;43m=\u001b[39;49m\u001b[38;5;28;43;01mFalse\u001b[39;49;00m\u001b[43m,\u001b[49m\n\u001b[1;32m    675\u001b[0m \u001b[43m        \u001b[49m\u001b[43mdecode_content\u001b[49m\u001b[38;5;241;43m=\u001b[39;49m\u001b[38;5;28;43;01mFalse\u001b[39;49;00m\u001b[43m,\u001b[49m\n\u001b[1;32m    676\u001b[0m \u001b[43m        \u001b[49m\u001b[43mretries\u001b[49m\u001b[38;5;241;43m=\u001b[39;49m\u001b[38;5;28;43mself\u001b[39;49m\u001b[38;5;241;43m.\u001b[39;49m\u001b[43mmax_retries\u001b[49m\u001b[43m,\u001b[49m\n\u001b[1;32m    677\u001b[0m \u001b[43m        \u001b[49m\u001b[43mtimeout\u001b[49m\u001b[38;5;241;43m=\u001b[39;49m\u001b[43mtimeout\u001b[49m\u001b[43m,\u001b[49m\n\u001b[1;32m    678\u001b[0m \u001b[43m        \u001b[49m\u001b[43mchunked\u001b[49m\u001b[38;5;241;43m=\u001b[39;49m\u001b[43mchunked\u001b[49m\u001b[43m,\u001b[49m\n\u001b[1;32m    679\u001b[0m \u001b[43m    \u001b[49m\u001b[43m)\u001b[49m\n\u001b[1;32m    681\u001b[0m \u001b[38;5;28;01mexcept\u001b[39;00m (ProtocolError, \u001b[38;5;167;01mOSError\u001b[39;00m) \u001b[38;5;28;01mas\u001b[39;00m err:\n",
      "File \u001b[0;32m~/opt/anaconda3/lib/python3.8/site-packages/urllib3/connectionpool.py:896\u001b[0m, in \u001b[0;36mHTTPConnectionPool.urlopen\u001b[0;34m(self, method, url, body, headers, retries, redirect, assert_same_host, timeout, pool_timeout, release_conn, chunked, body_pos, **response_kw)\u001b[0m\n\u001b[1;32m    895\u001b[0m     log\u001b[38;5;241m.\u001b[39mdebug(\u001b[38;5;124m\"\u001b[39m\u001b[38;5;124mRetry: \u001b[39m\u001b[38;5;132;01m%s\u001b[39;00m\u001b[38;5;124m\"\u001b[39m, url)\n\u001b[0;32m--> 896\u001b[0m     \u001b[38;5;28;01mreturn\u001b[39;00m \u001b[38;5;28;43mself\u001b[39;49m\u001b[38;5;241;43m.\u001b[39;49m\u001b[43murlopen\u001b[49m\u001b[43m(\u001b[49m\n\u001b[1;32m    897\u001b[0m \u001b[43m        \u001b[49m\u001b[43mmethod\u001b[49m\u001b[43m,\u001b[49m\n\u001b[1;32m    898\u001b[0m \u001b[43m        \u001b[49m\u001b[43murl\u001b[49m\u001b[43m,\u001b[49m\n\u001b[1;32m    899\u001b[0m \u001b[43m        \u001b[49m\u001b[43mbody\u001b[49m\u001b[43m,\u001b[49m\n\u001b[1;32m    900\u001b[0m \u001b[43m        \u001b[49m\u001b[43mheaders\u001b[49m\u001b[43m,\u001b[49m\n\u001b[1;32m    901\u001b[0m \u001b[43m        \u001b[49m\u001b[43mretries\u001b[49m\u001b[38;5;241;43m=\u001b[39;49m\u001b[43mretries\u001b[49m\u001b[43m,\u001b[49m\n\u001b[1;32m    902\u001b[0m \u001b[43m        \u001b[49m\u001b[43mredirect\u001b[49m\u001b[38;5;241;43m=\u001b[39;49m\u001b[43mredirect\u001b[49m\u001b[43m,\u001b[49m\n\u001b[1;32m    903\u001b[0m \u001b[43m        \u001b[49m\u001b[43massert_same_host\u001b[49m\u001b[38;5;241;43m=\u001b[39;49m\u001b[43massert_same_host\u001b[49m\u001b[43m,\u001b[49m\n\u001b[1;32m    904\u001b[0m \u001b[43m        \u001b[49m\u001b[43mtimeout\u001b[49m\u001b[38;5;241;43m=\u001b[39;49m\u001b[43mtimeout\u001b[49m\u001b[43m,\u001b[49m\n\u001b[1;32m    905\u001b[0m \u001b[43m        \u001b[49m\u001b[43mpool_timeout\u001b[49m\u001b[38;5;241;43m=\u001b[39;49m\u001b[43mpool_timeout\u001b[49m\u001b[43m,\u001b[49m\n\u001b[1;32m    906\u001b[0m \u001b[43m        \u001b[49m\u001b[43mrelease_conn\u001b[49m\u001b[38;5;241;43m=\u001b[39;49m\u001b[43mrelease_conn\u001b[49m\u001b[43m,\u001b[49m\n\u001b[1;32m    907\u001b[0m \u001b[43m        \u001b[49m\u001b[43mchunked\u001b[49m\u001b[38;5;241;43m=\u001b[39;49m\u001b[43mchunked\u001b[49m\u001b[43m,\u001b[49m\n\u001b[1;32m    908\u001b[0m \u001b[43m        \u001b[49m\u001b[43mbody_pos\u001b[49m\u001b[38;5;241;43m=\u001b[39;49m\u001b[43mbody_pos\u001b[49m\u001b[43m,\u001b[49m\n\u001b[1;32m    909\u001b[0m \u001b[43m        \u001b[49m\u001b[38;5;241;43m*\u001b[39;49m\u001b[38;5;241;43m*\u001b[39;49m\u001b[43mresponse_kw\u001b[49m\n\u001b[1;32m    910\u001b[0m \u001b[43m    \u001b[49m\u001b[43m)\u001b[49m\n\u001b[1;32m    912\u001b[0m \u001b[38;5;28;01mreturn\u001b[39;00m response\n",
      "File \u001b[0;32m~/opt/anaconda3/lib/python3.8/site-packages/urllib3/connectionpool.py:896\u001b[0m, in \u001b[0;36mHTTPConnectionPool.urlopen\u001b[0;34m(self, method, url, body, headers, retries, redirect, assert_same_host, timeout, pool_timeout, release_conn, chunked, body_pos, **response_kw)\u001b[0m\n\u001b[1;32m    895\u001b[0m     log\u001b[38;5;241m.\u001b[39mdebug(\u001b[38;5;124m\"\u001b[39m\u001b[38;5;124mRetry: \u001b[39m\u001b[38;5;132;01m%s\u001b[39;00m\u001b[38;5;124m\"\u001b[39m, url)\n\u001b[0;32m--> 896\u001b[0m     \u001b[38;5;28;01mreturn\u001b[39;00m \u001b[38;5;28;43mself\u001b[39;49m\u001b[38;5;241;43m.\u001b[39;49m\u001b[43murlopen\u001b[49m\u001b[43m(\u001b[49m\n\u001b[1;32m    897\u001b[0m \u001b[43m        \u001b[49m\u001b[43mmethod\u001b[49m\u001b[43m,\u001b[49m\n\u001b[1;32m    898\u001b[0m \u001b[43m        \u001b[49m\u001b[43murl\u001b[49m\u001b[43m,\u001b[49m\n\u001b[1;32m    899\u001b[0m \u001b[43m        \u001b[49m\u001b[43mbody\u001b[49m\u001b[43m,\u001b[49m\n\u001b[1;32m    900\u001b[0m \u001b[43m        \u001b[49m\u001b[43mheaders\u001b[49m\u001b[43m,\u001b[49m\n\u001b[1;32m    901\u001b[0m \u001b[43m        \u001b[49m\u001b[43mretries\u001b[49m\u001b[38;5;241;43m=\u001b[39;49m\u001b[43mretries\u001b[49m\u001b[43m,\u001b[49m\n\u001b[1;32m    902\u001b[0m \u001b[43m        \u001b[49m\u001b[43mredirect\u001b[49m\u001b[38;5;241;43m=\u001b[39;49m\u001b[43mredirect\u001b[49m\u001b[43m,\u001b[49m\n\u001b[1;32m    903\u001b[0m \u001b[43m        \u001b[49m\u001b[43massert_same_host\u001b[49m\u001b[38;5;241;43m=\u001b[39;49m\u001b[43massert_same_host\u001b[49m\u001b[43m,\u001b[49m\n\u001b[1;32m    904\u001b[0m \u001b[43m        \u001b[49m\u001b[43mtimeout\u001b[49m\u001b[38;5;241;43m=\u001b[39;49m\u001b[43mtimeout\u001b[49m\u001b[43m,\u001b[49m\n\u001b[1;32m    905\u001b[0m \u001b[43m        \u001b[49m\u001b[43mpool_timeout\u001b[49m\u001b[38;5;241;43m=\u001b[39;49m\u001b[43mpool_timeout\u001b[49m\u001b[43m,\u001b[49m\n\u001b[1;32m    906\u001b[0m \u001b[43m        \u001b[49m\u001b[43mrelease_conn\u001b[49m\u001b[38;5;241;43m=\u001b[39;49m\u001b[43mrelease_conn\u001b[49m\u001b[43m,\u001b[49m\n\u001b[1;32m    907\u001b[0m \u001b[43m        \u001b[49m\u001b[43mchunked\u001b[49m\u001b[38;5;241;43m=\u001b[39;49m\u001b[43mchunked\u001b[49m\u001b[43m,\u001b[49m\n\u001b[1;32m    908\u001b[0m \u001b[43m        \u001b[49m\u001b[43mbody_pos\u001b[49m\u001b[38;5;241;43m=\u001b[39;49m\u001b[43mbody_pos\u001b[49m\u001b[43m,\u001b[49m\n\u001b[1;32m    909\u001b[0m \u001b[43m        \u001b[49m\u001b[38;5;241;43m*\u001b[39;49m\u001b[38;5;241;43m*\u001b[39;49m\u001b[43mresponse_kw\u001b[49m\n\u001b[1;32m    910\u001b[0m \u001b[43m    \u001b[49m\u001b[43m)\u001b[49m\n\u001b[1;32m    912\u001b[0m \u001b[38;5;28;01mreturn\u001b[39;00m response\n",
      "File \u001b[0;32m~/opt/anaconda3/lib/python3.8/site-packages/urllib3/connectionpool.py:896\u001b[0m, in \u001b[0;36mHTTPConnectionPool.urlopen\u001b[0;34m(self, method, url, body, headers, retries, redirect, assert_same_host, timeout, pool_timeout, release_conn, chunked, body_pos, **response_kw)\u001b[0m\n\u001b[1;32m    895\u001b[0m     log\u001b[38;5;241m.\u001b[39mdebug(\u001b[38;5;124m\"\u001b[39m\u001b[38;5;124mRetry: \u001b[39m\u001b[38;5;132;01m%s\u001b[39;00m\u001b[38;5;124m\"\u001b[39m, url)\n\u001b[0;32m--> 896\u001b[0m     \u001b[38;5;28;01mreturn\u001b[39;00m \u001b[38;5;28;43mself\u001b[39;49m\u001b[38;5;241;43m.\u001b[39;49m\u001b[43murlopen\u001b[49m\u001b[43m(\u001b[49m\n\u001b[1;32m    897\u001b[0m \u001b[43m        \u001b[49m\u001b[43mmethod\u001b[49m\u001b[43m,\u001b[49m\n\u001b[1;32m    898\u001b[0m \u001b[43m        \u001b[49m\u001b[43murl\u001b[49m\u001b[43m,\u001b[49m\n\u001b[1;32m    899\u001b[0m \u001b[43m        \u001b[49m\u001b[43mbody\u001b[49m\u001b[43m,\u001b[49m\n\u001b[1;32m    900\u001b[0m \u001b[43m        \u001b[49m\u001b[43mheaders\u001b[49m\u001b[43m,\u001b[49m\n\u001b[1;32m    901\u001b[0m \u001b[43m        \u001b[49m\u001b[43mretries\u001b[49m\u001b[38;5;241;43m=\u001b[39;49m\u001b[43mretries\u001b[49m\u001b[43m,\u001b[49m\n\u001b[1;32m    902\u001b[0m \u001b[43m        \u001b[49m\u001b[43mredirect\u001b[49m\u001b[38;5;241;43m=\u001b[39;49m\u001b[43mredirect\u001b[49m\u001b[43m,\u001b[49m\n\u001b[1;32m    903\u001b[0m \u001b[43m        \u001b[49m\u001b[43massert_same_host\u001b[49m\u001b[38;5;241;43m=\u001b[39;49m\u001b[43massert_same_host\u001b[49m\u001b[43m,\u001b[49m\n\u001b[1;32m    904\u001b[0m \u001b[43m        \u001b[49m\u001b[43mtimeout\u001b[49m\u001b[38;5;241;43m=\u001b[39;49m\u001b[43mtimeout\u001b[49m\u001b[43m,\u001b[49m\n\u001b[1;32m    905\u001b[0m \u001b[43m        \u001b[49m\u001b[43mpool_timeout\u001b[49m\u001b[38;5;241;43m=\u001b[39;49m\u001b[43mpool_timeout\u001b[49m\u001b[43m,\u001b[49m\n\u001b[1;32m    906\u001b[0m \u001b[43m        \u001b[49m\u001b[43mrelease_conn\u001b[49m\u001b[38;5;241;43m=\u001b[39;49m\u001b[43mrelease_conn\u001b[49m\u001b[43m,\u001b[49m\n\u001b[1;32m    907\u001b[0m \u001b[43m        \u001b[49m\u001b[43mchunked\u001b[49m\u001b[38;5;241;43m=\u001b[39;49m\u001b[43mchunked\u001b[49m\u001b[43m,\u001b[49m\n\u001b[1;32m    908\u001b[0m \u001b[43m        \u001b[49m\u001b[43mbody_pos\u001b[49m\u001b[38;5;241;43m=\u001b[39;49m\u001b[43mbody_pos\u001b[49m\u001b[43m,\u001b[49m\n\u001b[1;32m    909\u001b[0m \u001b[43m        \u001b[49m\u001b[38;5;241;43m*\u001b[39;49m\u001b[38;5;241;43m*\u001b[39;49m\u001b[43mresponse_kw\u001b[49m\n\u001b[1;32m    910\u001b[0m \u001b[43m    \u001b[49m\u001b[43m)\u001b[49m\n\u001b[1;32m    912\u001b[0m \u001b[38;5;28;01mreturn\u001b[39;00m response\n",
      "File \u001b[0;32m~/opt/anaconda3/lib/python3.8/site-packages/urllib3/connectionpool.py:886\u001b[0m, in \u001b[0;36mHTTPConnectionPool.urlopen\u001b[0;34m(self, method, url, body, headers, retries, redirect, assert_same_host, timeout, pool_timeout, release_conn, chunked, body_pos, **response_kw)\u001b[0m\n\u001b[1;32m    885\u001b[0m \u001b[38;5;28;01mtry\u001b[39;00m:\n\u001b[0;32m--> 886\u001b[0m     retries \u001b[38;5;241m=\u001b[39m \u001b[43mretries\u001b[49m\u001b[38;5;241;43m.\u001b[39;49m\u001b[43mincrement\u001b[49m\u001b[43m(\u001b[49m\u001b[43mmethod\u001b[49m\u001b[43m,\u001b[49m\u001b[43m \u001b[49m\u001b[43murl\u001b[49m\u001b[43m,\u001b[49m\u001b[43m \u001b[49m\u001b[43mresponse\u001b[49m\u001b[38;5;241;43m=\u001b[39;49m\u001b[43mresponse\u001b[49m\u001b[43m,\u001b[49m\u001b[43m \u001b[49m\u001b[43m_pool\u001b[49m\u001b[38;5;241;43m=\u001b[39;49m\u001b[38;5;28;43mself\u001b[39;49m\u001b[43m)\u001b[49m\n\u001b[1;32m    887\u001b[0m \u001b[38;5;28;01mexcept\u001b[39;00m MaxRetryError:\n",
      "File \u001b[0;32m~/opt/anaconda3/lib/python3.8/site-packages/urllib3/util/retry.py:594\u001b[0m, in \u001b[0;36mRetry.increment\u001b[0;34m(self, method, url, response, error, _pool, _stacktrace)\u001b[0m\n\u001b[1;32m    593\u001b[0m \u001b[38;5;28;01mif\u001b[39;00m new_retry\u001b[38;5;241m.\u001b[39mis_exhausted():\n\u001b[0;32m--> 594\u001b[0m     \u001b[38;5;28;01mraise\u001b[39;00m MaxRetryError(_pool, url, error \u001b[38;5;129;01mor\u001b[39;00m ResponseError(cause))\n\u001b[1;32m    596\u001b[0m log\u001b[38;5;241m.\u001b[39mdebug(\u001b[38;5;124m\"\u001b[39m\u001b[38;5;124mIncremented Retry for (url=\u001b[39m\u001b[38;5;124m'\u001b[39m\u001b[38;5;132;01m%s\u001b[39;00m\u001b[38;5;124m'\u001b[39m\u001b[38;5;124m): \u001b[39m\u001b[38;5;132;01m%r\u001b[39;00m\u001b[38;5;124m\"\u001b[39m, url, new_retry)\n",
      "\u001b[0;31mMaxRetryError\u001b[0m: HTTPSConnectionPool(host='api.spotify.com', port=443): Max retries exceeded with url: /v1/audio-features/?ids=6xsEAm6w9oMQYYg3jkEkMT,466s1BacUmiRdR3ISvNjyx,22VdIZQfgXJea34mQxlt81,6wDviYDtmSDZ0S6TVMM9Vc,1OOtq8tRnDM8kG2gqUPjAj,3S2R0EVwBSAVMd5UMgKTL0,4uLU6hMCjMI75M1A2tKUQC,30UFKKWSOC2Xr6KfWcyvsI,0pdfN7nOHMYmKykzu1cyfm,3whrwq4DtvucphBPUogRuJ,3bsycjdQtbcJeR6822SBvd,1ve0SgTZkv3wdggJLqtBYU,5vlEg2fT4cFWAqU5QptIpQ,2F1fnE1a8zQCogM6jJifHH,57bgtoPSgt236HzfBOd8kj,0EMmVUYs9ZZRHtlADB88uz,0q21FNwES2bbtcduB6kjEU,7tlcsqahVxD2kkTMzKBVXD,4aapF01SjrSPovA6vjU1JW,7iDa6hUg2VgEL1o1HjmfBn,4hTZNimQzSOpFI1NljSFEA,6Ex1as5AIibDGYpVJe18QR,4Sib57MmYGJzSvkW84jTwh,2eQKwLqZ0t1hIBsYwsAedh,6P4d1NWBCNIYZjzF9k1mVN,1hGy2eLcmC8eKx7qr1tOqx,2yPoXCs7BSIUrucMdK5PzV,4DvhkX2ic4zWkQeWMwQ2qf,5ChkMS8OtdzJeqyybCc9R5,7EFVJfuaqhIIvzNHZpEpth,5zA8vzDGqPl2AzZkEYQGKh,1YaK2hxBcOHFQXKfeSA3Oh,4NtUY5IGzHCaqfZemmAu56,1TwLKNsCnhi1HxbIi4bAW0,4w0ezrWpegj1GHJ45y0kXc,2QJnTfMpNG05KFf2E3gVIJ,4VdgVYzrI5lmh6zC9BzNOO,1jgmL1VK9U7XyKIOfVBbqJ,0RJWhctsc1G1Hg3Ov2th7x,20I6sIOMTCkB6w7ryavxtO,3oTlkzk1OtrhH8wBAduVEi,1G391cbiT3v3Cywg8T7DM1,4PrMtqNCkVtMrD8Rzp4OmN,0wagV3icLdCE7uP7rjyOfY,131OLY5J8XyfGuSjXRiTRM,6nCDnzErqalOaIY3EJM8NK,6tXjP6xgPJ7Xr1igrO6bOE,2Iib2MV3ECFJAourgP9dlY,7rcF9Sx3vjKE2UBvNx2Ml1,14EgW52HVqnLHd30bgbPxg (Caused by ResponseError('too many 429 error responses'))",
      "\nDuring handling of the above exception, another exception occurred:\n",
      "\u001b[0;31mRetryError\u001b[0m                                Traceback (most recent call last)",
      "File \u001b[0;32m~/opt/anaconda3/lib/python3.8/site-packages/spotipy/client.py:270\u001b[0m, in \u001b[0;36mSpotify._internal_call\u001b[0;34m(self, method, url, payload, params)\u001b[0m\n\u001b[1;32m    269\u001b[0m \u001b[38;5;28;01mtry\u001b[39;00m:\n\u001b[0;32m--> 270\u001b[0m     response \u001b[38;5;241m=\u001b[39m \u001b[38;5;28;43mself\u001b[39;49m\u001b[38;5;241;43m.\u001b[39;49m\u001b[43m_session\u001b[49m\u001b[38;5;241;43m.\u001b[39;49m\u001b[43mrequest\u001b[49m\u001b[43m(\u001b[49m\n\u001b[1;32m    271\u001b[0m \u001b[43m        \u001b[49m\u001b[43mmethod\u001b[49m\u001b[43m,\u001b[49m\u001b[43m \u001b[49m\u001b[43murl\u001b[49m\u001b[43m,\u001b[49m\u001b[43m \u001b[49m\u001b[43mheaders\u001b[49m\u001b[38;5;241;43m=\u001b[39;49m\u001b[43mheaders\u001b[49m\u001b[43m,\u001b[49m\u001b[43m \u001b[49m\u001b[43mproxies\u001b[49m\u001b[38;5;241;43m=\u001b[39;49m\u001b[38;5;28;43mself\u001b[39;49m\u001b[38;5;241;43m.\u001b[39;49m\u001b[43mproxies\u001b[49m\u001b[43m,\u001b[49m\n\u001b[1;32m    272\u001b[0m \u001b[43m        \u001b[49m\u001b[43mtimeout\u001b[49m\u001b[38;5;241;43m=\u001b[39;49m\u001b[38;5;28;43mself\u001b[39;49m\u001b[38;5;241;43m.\u001b[39;49m\u001b[43mrequests_timeout\u001b[49m\u001b[43m,\u001b[49m\u001b[43m \u001b[49m\u001b[38;5;241;43m*\u001b[39;49m\u001b[38;5;241;43m*\u001b[39;49m\u001b[43margs\u001b[49m\n\u001b[1;32m    273\u001b[0m \u001b[43m    \u001b[49m\u001b[43m)\u001b[49m\n\u001b[1;32m    275\u001b[0m     response\u001b[38;5;241m.\u001b[39mraise_for_status()\n",
      "File \u001b[0;32m~/opt/anaconda3/lib/python3.8/site-packages/requests/sessions.py:589\u001b[0m, in \u001b[0;36mSession.request\u001b[0;34m(self, method, url, params, data, headers, cookies, files, auth, timeout, allow_redirects, proxies, hooks, stream, verify, cert, json)\u001b[0m\n\u001b[1;32m    588\u001b[0m send_kwargs\u001b[38;5;241m.\u001b[39mupdate(settings)\n\u001b[0;32m--> 589\u001b[0m resp \u001b[38;5;241m=\u001b[39m \u001b[38;5;28;43mself\u001b[39;49m\u001b[38;5;241;43m.\u001b[39;49m\u001b[43msend\u001b[49m\u001b[43m(\u001b[49m\u001b[43mprep\u001b[49m\u001b[43m,\u001b[49m\u001b[43m \u001b[49m\u001b[38;5;241;43m*\u001b[39;49m\u001b[38;5;241;43m*\u001b[39;49m\u001b[43msend_kwargs\u001b[49m\u001b[43m)\u001b[49m\n\u001b[1;32m    591\u001b[0m \u001b[38;5;28;01mreturn\u001b[39;00m resp\n",
      "File \u001b[0;32m~/opt/anaconda3/lib/python3.8/site-packages/requests/sessions.py:703\u001b[0m, in \u001b[0;36mSession.send\u001b[0;34m(self, request, **kwargs)\u001b[0m\n\u001b[1;32m    702\u001b[0m \u001b[38;5;66;03m# Send the request\u001b[39;00m\n\u001b[0;32m--> 703\u001b[0m r \u001b[38;5;241m=\u001b[39m \u001b[43madapter\u001b[49m\u001b[38;5;241;43m.\u001b[39;49m\u001b[43msend\u001b[49m\u001b[43m(\u001b[49m\u001b[43mrequest\u001b[49m\u001b[43m,\u001b[49m\u001b[43m \u001b[49m\u001b[38;5;241;43m*\u001b[39;49m\u001b[38;5;241;43m*\u001b[39;49m\u001b[43mkwargs\u001b[49m\u001b[43m)\u001b[49m\n\u001b[1;32m    705\u001b[0m \u001b[38;5;66;03m# Total elapsed time of the request (approximately)\u001b[39;00m\n",
      "File \u001b[0;32m~/opt/anaconda3/lib/python3.8/site-packages/requests/adapters.py:691\u001b[0m, in \u001b[0;36mHTTPAdapter.send\u001b[0;34m(self, request, stream, timeout, verify, cert, proxies)\u001b[0m\n\u001b[1;32m    690\u001b[0m \u001b[38;5;28;01mif\u001b[39;00m \u001b[38;5;28misinstance\u001b[39m(e\u001b[38;5;241m.\u001b[39mreason, ResponseError):\n\u001b[0;32m--> 691\u001b[0m     \u001b[38;5;28;01mraise\u001b[39;00m RetryError(e, request\u001b[38;5;241m=\u001b[39mrequest)\n\u001b[1;32m    693\u001b[0m \u001b[38;5;28;01mif\u001b[39;00m \u001b[38;5;28misinstance\u001b[39m(e\u001b[38;5;241m.\u001b[39mreason, _ProxyError):\n",
      "\u001b[0;31mRetryError\u001b[0m: HTTPSConnectionPool(host='api.spotify.com', port=443): Max retries exceeded with url: /v1/audio-features/?ids=6xsEAm6w9oMQYYg3jkEkMT,466s1BacUmiRdR3ISvNjyx,22VdIZQfgXJea34mQxlt81,6wDviYDtmSDZ0S6TVMM9Vc,1OOtq8tRnDM8kG2gqUPjAj,3S2R0EVwBSAVMd5UMgKTL0,4uLU6hMCjMI75M1A2tKUQC,30UFKKWSOC2Xr6KfWcyvsI,0pdfN7nOHMYmKykzu1cyfm,3whrwq4DtvucphBPUogRuJ,3bsycjdQtbcJeR6822SBvd,1ve0SgTZkv3wdggJLqtBYU,5vlEg2fT4cFWAqU5QptIpQ,2F1fnE1a8zQCogM6jJifHH,57bgtoPSgt236HzfBOd8kj,0EMmVUYs9ZZRHtlADB88uz,0q21FNwES2bbtcduB6kjEU,7tlcsqahVxD2kkTMzKBVXD,4aapF01SjrSPovA6vjU1JW,7iDa6hUg2VgEL1o1HjmfBn,4hTZNimQzSOpFI1NljSFEA,6Ex1as5AIibDGYpVJe18QR,4Sib57MmYGJzSvkW84jTwh,2eQKwLqZ0t1hIBsYwsAedh,6P4d1NWBCNIYZjzF9k1mVN,1hGy2eLcmC8eKx7qr1tOqx,2yPoXCs7BSIUrucMdK5PzV,4DvhkX2ic4zWkQeWMwQ2qf,5ChkMS8OtdzJeqyybCc9R5,7EFVJfuaqhIIvzNHZpEpth,5zA8vzDGqPl2AzZkEYQGKh,1YaK2hxBcOHFQXKfeSA3Oh,4NtUY5IGzHCaqfZemmAu56,1TwLKNsCnhi1HxbIi4bAW0,4w0ezrWpegj1GHJ45y0kXc,2QJnTfMpNG05KFf2E3gVIJ,4VdgVYzrI5lmh6zC9BzNOO,1jgmL1VK9U7XyKIOfVBbqJ,0RJWhctsc1G1Hg3Ov2th7x,20I6sIOMTCkB6w7ryavxtO,3oTlkzk1OtrhH8wBAduVEi,1G391cbiT3v3Cywg8T7DM1,4PrMtqNCkVtMrD8Rzp4OmN,0wagV3icLdCE7uP7rjyOfY,131OLY5J8XyfGuSjXRiTRM,6nCDnzErqalOaIY3EJM8NK,6tXjP6xgPJ7Xr1igrO6bOE,2Iib2MV3ECFJAourgP9dlY,7rcF9Sx3vjKE2UBvNx2Ml1,14EgW52HVqnLHd30bgbPxg (Caused by ResponseError('too many 429 error responses'))",
      "\nDuring handling of the above exception, another exception occurred:\n",
      "\u001b[0;31mSpotifyException\u001b[0m                          Traceback (most recent call last)",
      "Cell \u001b[0;32mIn[8], line 56\u001b[0m\n\u001b[1;32m     53\u001b[0m batch_song_ids \u001b[38;5;241m=\u001b[39m song_ids[i:i\u001b[38;5;241m+\u001b[39mbatch_size]\n\u001b[1;32m     54\u001b[0m batch_artist_ids \u001b[38;5;241m=\u001b[39m artist_ids[i:i\u001b[38;5;241m+\u001b[39mbatch_size]\n\u001b[0;32m---> 56\u001b[0m batch_features \u001b[38;5;241m=\u001b[39m \u001b[43mget_song_features_batch\u001b[49m\u001b[43m(\u001b[49m\u001b[43mbatch_song_ids\u001b[49m\u001b[43m)\u001b[49m\n\u001b[1;32m     57\u001b[0m batch_genres \u001b[38;5;241m=\u001b[39m get_song_genres_batch(batch_artist_ids)\n\u001b[1;32m     59\u001b[0m batch_data \u001b[38;5;241m=\u001b[39m pd\u001b[38;5;241m.\u001b[39mDataFrame({\n\u001b[1;32m     60\u001b[0m     \u001b[38;5;124m\"\u001b[39m\u001b[38;5;124msong_id\u001b[39m\u001b[38;5;124m\"\u001b[39m: batch_song_ids,\n\u001b[1;32m     61\u001b[0m     \u001b[38;5;124m\"\u001b[39m\u001b[38;5;124martist_id\u001b[39m\u001b[38;5;124m\"\u001b[39m: batch_artist_ids,\n\u001b[1;32m     62\u001b[0m     \u001b[38;5;124m\"\u001b[39m\u001b[38;5;124mfeatures\u001b[39m\u001b[38;5;124m\"\u001b[39m: batch_features,\n\u001b[1;32m     63\u001b[0m     \u001b[38;5;124m\"\u001b[39m\u001b[38;5;124mgenre\u001b[39m\u001b[38;5;124m\"\u001b[39m: batch_genres\n\u001b[1;32m     64\u001b[0m })\n",
      "Cell \u001b[0;32mIn[8], line 29\u001b[0m, in \u001b[0;36mget_song_features_batch\u001b[0;34m(song_ids)\u001b[0m\n\u001b[1;32m     27\u001b[0m \u001b[38;5;28;01mfor\u001b[39;00m i \u001b[38;5;129;01min\u001b[39;00m \u001b[38;5;28mrange\u001b[39m(\u001b[38;5;241m0\u001b[39m, \u001b[38;5;28mlen\u001b[39m(song_ids), batch_size):\n\u001b[1;32m     28\u001b[0m     batch \u001b[38;5;241m=\u001b[39m song_ids[i:i\u001b[38;5;241m+\u001b[39mbatch_size]\n\u001b[0;32m---> 29\u001b[0m     batch_features \u001b[38;5;241m=\u001b[39m \u001b[43msp\u001b[49m\u001b[38;5;241;43m.\u001b[39;49m\u001b[43maudio_features\u001b[49m\u001b[43m(\u001b[49m\u001b[43mbatch\u001b[49m\u001b[43m)\u001b[49m\n\u001b[1;32m     30\u001b[0m     features\u001b[38;5;241m.\u001b[39mextend(batch_features)\n\u001b[1;32m     31\u001b[0m \u001b[38;5;28;01mreturn\u001b[39;00m features\n",
      "File \u001b[0;32m~/opt/anaconda3/lib/python3.8/site-packages/spotipy/client.py:1753\u001b[0m, in \u001b[0;36mSpotify.audio_features\u001b[0;34m(self, tracks)\u001b[0m\n\u001b[1;32m   1751\u001b[0m \u001b[38;5;28;01melse\u001b[39;00m:\n\u001b[1;32m   1752\u001b[0m     tlist \u001b[38;5;241m=\u001b[39m [\u001b[38;5;28mself\u001b[39m\u001b[38;5;241m.\u001b[39m_get_id(\u001b[38;5;124m\"\u001b[39m\u001b[38;5;124mtrack\u001b[39m\u001b[38;5;124m\"\u001b[39m, t) \u001b[38;5;28;01mfor\u001b[39;00m t \u001b[38;5;129;01min\u001b[39;00m tracks]\n\u001b[0;32m-> 1753\u001b[0m     results \u001b[38;5;241m=\u001b[39m \u001b[38;5;28;43mself\u001b[39;49m\u001b[38;5;241;43m.\u001b[39;49m\u001b[43m_get\u001b[49m\u001b[43m(\u001b[49m\u001b[38;5;124;43m\"\u001b[39;49m\u001b[38;5;124;43maudio-features/?ids=\u001b[39;49m\u001b[38;5;124;43m\"\u001b[39;49m\u001b[43m \u001b[49m\u001b[38;5;241;43m+\u001b[39;49m\u001b[43m \u001b[49m\u001b[38;5;124;43m\"\u001b[39;49m\u001b[38;5;124;43m,\u001b[39;49m\u001b[38;5;124;43m\"\u001b[39;49m\u001b[38;5;241;43m.\u001b[39;49m\u001b[43mjoin\u001b[49m\u001b[43m(\u001b[49m\u001b[43mtlist\u001b[49m\u001b[43m)\u001b[49m\u001b[43m)\u001b[49m\n\u001b[1;32m   1754\u001b[0m \u001b[38;5;66;03m# the response has changed, look for the new style first, and if\u001b[39;00m\n\u001b[1;32m   1755\u001b[0m \u001b[38;5;66;03m# it's not there, fallback on the old style\u001b[39;00m\n\u001b[1;32m   1756\u001b[0m \u001b[38;5;28;01mif\u001b[39;00m \u001b[38;5;124m\"\u001b[39m\u001b[38;5;124maudio_features\u001b[39m\u001b[38;5;124m\"\u001b[39m \u001b[38;5;129;01min\u001b[39;00m results:\n",
      "File \u001b[0;32m~/opt/anaconda3/lib/python3.8/site-packages/spotipy/client.py:327\u001b[0m, in \u001b[0;36mSpotify._get\u001b[0;34m(self, url, args, payload, **kwargs)\u001b[0m\n\u001b[1;32m    324\u001b[0m \u001b[38;5;28;01mif\u001b[39;00m args:\n\u001b[1;32m    325\u001b[0m     kwargs\u001b[38;5;241m.\u001b[39mupdate(args)\n\u001b[0;32m--> 327\u001b[0m \u001b[38;5;28;01mreturn\u001b[39;00m \u001b[38;5;28;43mself\u001b[39;49m\u001b[38;5;241;43m.\u001b[39;49m\u001b[43m_internal_call\u001b[49m\u001b[43m(\u001b[49m\u001b[38;5;124;43m\"\u001b[39;49m\u001b[38;5;124;43mGET\u001b[39;49m\u001b[38;5;124;43m\"\u001b[39;49m\u001b[43m,\u001b[49m\u001b[43m \u001b[49m\u001b[43murl\u001b[49m\u001b[43m,\u001b[49m\u001b[43m \u001b[49m\u001b[43mpayload\u001b[49m\u001b[43m,\u001b[49m\u001b[43m \u001b[49m\u001b[43mkwargs\u001b[49m\u001b[43m)\u001b[49m\n",
      "File \u001b[0;32m~/opt/anaconda3/lib/python3.8/site-packages/spotipy/client.py:311\u001b[0m, in \u001b[0;36mSpotify._internal_call\u001b[0;34m(self, method, url, payload, params)\u001b[0m\n\u001b[1;32m    309\u001b[0m     \u001b[38;5;28;01mexcept\u001b[39;00m (\u001b[38;5;167;01mIndexError\u001b[39;00m, \u001b[38;5;167;01mAttributeError\u001b[39;00m):\n\u001b[1;32m    310\u001b[0m         reason \u001b[38;5;241m=\u001b[39m \u001b[38;5;28;01mNone\u001b[39;00m\n\u001b[0;32m--> 311\u001b[0m     \u001b[38;5;28;01mraise\u001b[39;00m SpotifyException(\n\u001b[1;32m    312\u001b[0m         \u001b[38;5;241m429\u001b[39m,\n\u001b[1;32m    313\u001b[0m         \u001b[38;5;241m-\u001b[39m\u001b[38;5;241m1\u001b[39m,\n\u001b[1;32m    314\u001b[0m         \u001b[38;5;124mf\u001b[39m\u001b[38;5;124m\"\u001b[39m\u001b[38;5;132;01m{\u001b[39;00mrequest\u001b[38;5;241m.\u001b[39mpath_url\u001b[38;5;132;01m}\u001b[39;00m\u001b[38;5;124m:\u001b[39m\u001b[38;5;130;01m\\n\u001b[39;00m\u001b[38;5;124m Max Retries\u001b[39m\u001b[38;5;124m\"\u001b[39m,\n\u001b[1;32m    315\u001b[0m         reason\u001b[38;5;241m=\u001b[39mreason\n\u001b[1;32m    316\u001b[0m     )\n\u001b[1;32m    317\u001b[0m \u001b[38;5;28;01mexcept\u001b[39;00m \u001b[38;5;167;01mValueError\u001b[39;00m:\n\u001b[1;32m    318\u001b[0m     results \u001b[38;5;241m=\u001b[39m \u001b[38;5;28;01mNone\u001b[39;00m\n",
      "\u001b[0;31mSpotifyException\u001b[0m: http status: 429, code:-1 - /v1/audio-features/?ids=6xsEAm6w9oMQYYg3jkEkMT,466s1BacUmiRdR3ISvNjyx,22VdIZQfgXJea34mQxlt81,6wDviYDtmSDZ0S6TVMM9Vc,1OOtq8tRnDM8kG2gqUPjAj,3S2R0EVwBSAVMd5UMgKTL0,4uLU6hMCjMI75M1A2tKUQC,30UFKKWSOC2Xr6KfWcyvsI,0pdfN7nOHMYmKykzu1cyfm,3whrwq4DtvucphBPUogRuJ,3bsycjdQtbcJeR6822SBvd,1ve0SgTZkv3wdggJLqtBYU,5vlEg2fT4cFWAqU5QptIpQ,2F1fnE1a8zQCogM6jJifHH,57bgtoPSgt236HzfBOd8kj,0EMmVUYs9ZZRHtlADB88uz,0q21FNwES2bbtcduB6kjEU,7tlcsqahVxD2kkTMzKBVXD,4aapF01SjrSPovA6vjU1JW,7iDa6hUg2VgEL1o1HjmfBn,4hTZNimQzSOpFI1NljSFEA,6Ex1as5AIibDGYpVJe18QR,4Sib57MmYGJzSvkW84jTwh,2eQKwLqZ0t1hIBsYwsAedh,6P4d1NWBCNIYZjzF9k1mVN,1hGy2eLcmC8eKx7qr1tOqx,2yPoXCs7BSIUrucMdK5PzV,4DvhkX2ic4zWkQeWMwQ2qf,5ChkMS8OtdzJeqyybCc9R5,7EFVJfuaqhIIvzNHZpEpth,5zA8vzDGqPl2AzZkEYQGKh,1YaK2hxBcOHFQXKfeSA3Oh,4NtUY5IGzHCaqfZemmAu56,1TwLKNsCnhi1HxbIi4bAW0,4w0ezrWpegj1GHJ45y0kXc,2QJnTfMpNG05KFf2E3gVIJ,4VdgVYzrI5lmh6zC9BzNOO,1jgmL1VK9U7XyKIOfVBbqJ,0RJWhctsc1G1Hg3Ov2th7x,20I6sIOMTCkB6w7ryavxtO,3oTlkzk1OtrhH8wBAduVEi,1G391cbiT3v3Cywg8T7DM1,4PrMtqNCkVtMrD8Rzp4OmN,0wagV3icLdCE7uP7rjyOfY,131OLY5J8XyfGuSjXRiTRM,6nCDnzErqalOaIY3EJM8NK,6tXjP6xgPJ7Xr1igrO6bOE,2Iib2MV3ECFJAourgP9dlY,7rcF9Sx3vjKE2UBvNx2Ml1,14EgW52HVqnLHd30bgbPxg:\n Max Retries, reason: too many 429 error responses"
     ]
    }
   ],
   "source": [
    "import spotipy\n",
    "from spotipy.oauth2 import SpotifyClientCredentials\n",
    "import pandas as pd\n",
    "import numpy as np\n",
    "from sklearn.feature_extraction.text import TfidfVectorizer\n",
    "from sklearn.model_selection import train_test_split\n",
    "from sklearn.ensemble import RandomForestClassifier\n",
    "from sklearn.metrics import accuracy_score, classification_report\n",
    "\n",
    "# Spotify API credentials\n",
    "cclient_id = \"4e94c7a00ce841cb97a1eb6b94715735\"\n",
    "client_secret = \"023e76405fdc4e68af511d30ef91d172\"\n",
    "\n",
    "redirect_uri = \"YOUR_REDIRECT_URI\"\n",
    "\n",
    "# Authenticate with Spotify API\n",
    "client_credentials_manager = SpotifyClientCredentials(client_id, client_secret)\n",
    "sp = spotipy.Spotify(client_credentials_manager=client_credentials_manager)\n",
    "\n",
    "# API rate limits\n",
    "batch_size = 50  # Adjust batch size based on API limits\n",
    "max_requests = 1000  # Adjust max requests based on API limits\n",
    "\n",
    "# Function to retrieve song features in batches\n",
    "def get_song_features_batch(song_ids):\n",
    "    features = []\n",
    "    for i in range(0, len(song_ids), batch_size):\n",
    "        batch = song_ids[i:i+batch_size]\n",
    "        batch_features = sp.audio_features(batch)\n",
    "        features.extend(batch_features)\n",
    "    return features\n",
    "\n",
    "# Function to retrieve song genres in batches\n",
    "def get_song_genres_batch(artist_ids):\n",
    "    genres = []\n",
    "    for i in range(0, len(artist_ids), batch_size):\n",
    "        batch = artist_ids[i:i+batch_size]\n",
    "        results = sp.artists(batch)\n",
    "        for artist in results:\n",
    "            if \"genres\" in artist and artist[\"genres\"]:\n",
    "                genres.append(artist[\"genres\"][0])\n",
    "            else:\n",
    "                genres.append(None)\n",
    "    return genres\n",
    "\n",
    "# Load song IDs and artist IDs\n",
    "song_ids = pd.read_csv(\"song_ids.csv\")[\"song_id\"].tolist()\n",
    "artist_ids = pd.read_csv(\"artist_ids.csv\")[\"artist_id\"].tolist()\n",
    "\n",
    "# Load data in batches\n",
    "batches = []\n",
    "for i in range(0, len(song_ids), batch_size):\n",
    "    batch_song_ids = song_ids[i:i+batch_size]\n",
    "    batch_artist_ids = artist_ids[i:i+batch_size]\n",
    "    \n",
    "    batch_features = get_song_features_batch(batch_song_ids)\n",
    "    batch_genres = get_song_genres_batch(batch_artist_ids)\n",
    "    \n",
    "    batch_data = pd.DataFrame({\n",
    "        \"song_id\": batch_song_ids,\n",
    "        \"artist_id\": batch_artist_ids,\n",
    "        \"features\": batch_features,\n",
    "        \"genre\": batch_genres\n",
    "    })\n",
    "    \n",
    "    batches.append(batch_data)\n",
    "\n",
    "# Concatenate batches\n",
    "df = pd.concat(batches, ignore_index=True)\n",
    "\n",
    "\n",
    "# Split data into training and testing sets\n",
    "X_train, X_test, y_train, y_test = train_test_split(X, y, test_size=0.2, random_state=42)\n",
    "\n",
    "# Create TF-IDF vectorizer for song titles\n",
    "vectorizer = TfidfVectorizer()\n",
    "\n",
    "# Fit vectorizer to training data\n",
    "vectorizer.fit(X_train)\n",
    "\n",
    "# Transform training and testing data\n",
    "X_train_tfidf = vectorizer.transform(X_train)\n",
    "X_test_tfidf = vectorizer.transform(X_test)\n",
    "\n",
    "# Train Random Forest classifier\n",
    "rfc = RandomForestClassifier(n_estimators=100, random_state=42)\n",
    "rfc.fit(X_train_tfidf, y_train)\n",
    "\n",
    "# Make predictions on testing data\n",
    "y_pred = rfc.predict(X_test_tfidf)\n",
    "\n",
    "# Evaluate model performance\n",
    "accuracy = accuracy_score(y_test, y_pred)\n",
    "print(\"Accuracy:\", accuracy)\n",
    "print(\"Classification Report:\")\n",
    "print(classification_report(y_test, y_pred))"
   ]
  },
  {
   "cell_type": "code",
   "execution_count": null,
   "metadata": {},
   "outputs": [],
   "source": []
  },
  {
   "cell_type": "code",
   "execution_count": 6,
   "metadata": {},
   "outputs": [
    {
     "ename": "ValueError",
     "evalue": "Found input variables with inconsistent numbers of samples: [15, 3432]",
     "output_type": "error",
     "traceback": [
      "\u001b[0;31m---------------------------------------------------------------------------\u001b[0m",
      "\u001b[0;31mValueError\u001b[0m                                Traceback (most recent call last)",
      "Cell \u001b[0;32mIn[6], line 32\u001b[0m\n\u001b[1;32m     30\u001b[0m \u001b[38;5;66;03m# Train Random Forest classifier\u001b[39;00m\n\u001b[1;32m     31\u001b[0m rfc \u001b[38;5;241m=\u001b[39m RandomForestClassifier(n_estimators\u001b[38;5;241m=\u001b[39m\u001b[38;5;241m100\u001b[39m, random_state\u001b[38;5;241m=\u001b[39m\u001b[38;5;241m42\u001b[39m)\n\u001b[0;32m---> 32\u001b[0m \u001b[43mrfc\u001b[49m\u001b[38;5;241;43m.\u001b[39;49m\u001b[43mfit\u001b[49m\u001b[43m(\u001b[49m\u001b[43mX_train_tfidf\u001b[49m\u001b[43m,\u001b[49m\u001b[43m \u001b[49m\u001b[43my_train\u001b[49m\u001b[43m)\u001b[49m\n\u001b[1;32m     34\u001b[0m \u001b[38;5;66;03m# Make predictions on testing data\u001b[39;00m\n\u001b[1;32m     35\u001b[0m y_pred \u001b[38;5;241m=\u001b[39m rfc\u001b[38;5;241m.\u001b[39mpredict(X_test_tfidf)\n",
      "File \u001b[0;32m~/opt/anaconda3/lib/python3.8/site-packages/sklearn/ensemble/_forest.py:345\u001b[0m, in \u001b[0;36mBaseForest.fit\u001b[0;34m(self, X, y, sample_weight)\u001b[0m\n\u001b[1;32m    343\u001b[0m \u001b[38;5;28;01mif\u001b[39;00m issparse(y):\n\u001b[1;32m    344\u001b[0m     \u001b[38;5;28;01mraise\u001b[39;00m \u001b[38;5;167;01mValueError\u001b[39;00m(\u001b[38;5;124m\"\u001b[39m\u001b[38;5;124msparse multilabel-indicator for y is not supported.\u001b[39m\u001b[38;5;124m\"\u001b[39m)\n\u001b[0;32m--> 345\u001b[0m X, y \u001b[38;5;241m=\u001b[39m \u001b[38;5;28;43mself\u001b[39;49m\u001b[38;5;241;43m.\u001b[39;49m\u001b[43m_validate_data\u001b[49m\u001b[43m(\u001b[49m\n\u001b[1;32m    346\u001b[0m \u001b[43m    \u001b[49m\u001b[43mX\u001b[49m\u001b[43m,\u001b[49m\u001b[43m \u001b[49m\u001b[43my\u001b[49m\u001b[43m,\u001b[49m\u001b[43m \u001b[49m\u001b[43mmulti_output\u001b[49m\u001b[38;5;241;43m=\u001b[39;49m\u001b[38;5;28;43;01mTrue\u001b[39;49;00m\u001b[43m,\u001b[49m\u001b[43m \u001b[49m\u001b[43maccept_sparse\u001b[49m\u001b[38;5;241;43m=\u001b[39;49m\u001b[38;5;124;43m\"\u001b[39;49m\u001b[38;5;124;43mcsc\u001b[39;49m\u001b[38;5;124;43m\"\u001b[39;49m\u001b[43m,\u001b[49m\u001b[43m \u001b[49m\u001b[43mdtype\u001b[49m\u001b[38;5;241;43m=\u001b[39;49m\u001b[43mDTYPE\u001b[49m\n\u001b[1;32m    347\u001b[0m \u001b[43m\u001b[49m\u001b[43m)\u001b[49m\n\u001b[1;32m    348\u001b[0m \u001b[38;5;28;01mif\u001b[39;00m sample_weight \u001b[38;5;129;01mis\u001b[39;00m \u001b[38;5;129;01mnot\u001b[39;00m \u001b[38;5;28;01mNone\u001b[39;00m:\n\u001b[1;32m    349\u001b[0m     sample_weight \u001b[38;5;241m=\u001b[39m _check_sample_weight(sample_weight, X)\n",
      "File \u001b[0;32m~/opt/anaconda3/lib/python3.8/site-packages/sklearn/base.py:584\u001b[0m, in \u001b[0;36mBaseEstimator._validate_data\u001b[0;34m(self, X, y, reset, validate_separately, **check_params)\u001b[0m\n\u001b[1;32m    582\u001b[0m         y \u001b[38;5;241m=\u001b[39m check_array(y, input_name\u001b[38;5;241m=\u001b[39m\u001b[38;5;124m\"\u001b[39m\u001b[38;5;124my\u001b[39m\u001b[38;5;124m\"\u001b[39m, \u001b[38;5;241m*\u001b[39m\u001b[38;5;241m*\u001b[39mcheck_y_params)\n\u001b[1;32m    583\u001b[0m     \u001b[38;5;28;01melse\u001b[39;00m:\n\u001b[0;32m--> 584\u001b[0m         X, y \u001b[38;5;241m=\u001b[39m \u001b[43mcheck_X_y\u001b[49m\u001b[43m(\u001b[49m\u001b[43mX\u001b[49m\u001b[43m,\u001b[49m\u001b[43m \u001b[49m\u001b[43my\u001b[49m\u001b[43m,\u001b[49m\u001b[43m \u001b[49m\u001b[38;5;241;43m*\u001b[39;49m\u001b[38;5;241;43m*\u001b[39;49m\u001b[43mcheck_params\u001b[49m\u001b[43m)\u001b[49m\n\u001b[1;32m    585\u001b[0m     out \u001b[38;5;241m=\u001b[39m X, y\n\u001b[1;32m    587\u001b[0m \u001b[38;5;28;01mif\u001b[39;00m \u001b[38;5;129;01mnot\u001b[39;00m no_val_X \u001b[38;5;129;01mand\u001b[39;00m check_params\u001b[38;5;241m.\u001b[39mget(\u001b[38;5;124m\"\u001b[39m\u001b[38;5;124mensure_2d\u001b[39m\u001b[38;5;124m\"\u001b[39m, \u001b[38;5;28;01mTrue\u001b[39;00m):\n",
      "File \u001b[0;32m~/opt/anaconda3/lib/python3.8/site-packages/sklearn/utils/validation.py:1124\u001b[0m, in \u001b[0;36mcheck_X_y\u001b[0;34m(X, y, accept_sparse, accept_large_sparse, dtype, order, copy, force_all_finite, ensure_2d, allow_nd, multi_output, ensure_min_samples, ensure_min_features, y_numeric, estimator)\u001b[0m\n\u001b[1;32m   1106\u001b[0m X \u001b[38;5;241m=\u001b[39m check_array(\n\u001b[1;32m   1107\u001b[0m     X,\n\u001b[1;32m   1108\u001b[0m     accept_sparse\u001b[38;5;241m=\u001b[39maccept_sparse,\n\u001b[0;32m   (...)\u001b[0m\n\u001b[1;32m   1119\u001b[0m     input_name\u001b[38;5;241m=\u001b[39m\u001b[38;5;124m\"\u001b[39m\u001b[38;5;124mX\u001b[39m\u001b[38;5;124m\"\u001b[39m,\n\u001b[1;32m   1120\u001b[0m )\n\u001b[1;32m   1122\u001b[0m y \u001b[38;5;241m=\u001b[39m _check_y(y, multi_output\u001b[38;5;241m=\u001b[39mmulti_output, y_numeric\u001b[38;5;241m=\u001b[39my_numeric, estimator\u001b[38;5;241m=\u001b[39mestimator)\n\u001b[0;32m-> 1124\u001b[0m \u001b[43mcheck_consistent_length\u001b[49m\u001b[43m(\u001b[49m\u001b[43mX\u001b[49m\u001b[43m,\u001b[49m\u001b[43m \u001b[49m\u001b[43my\u001b[49m\u001b[43m)\u001b[49m\n\u001b[1;32m   1126\u001b[0m \u001b[38;5;28;01mreturn\u001b[39;00m X, y\n",
      "File \u001b[0;32m~/opt/anaconda3/lib/python3.8/site-packages/sklearn/utils/validation.py:397\u001b[0m, in \u001b[0;36mcheck_consistent_length\u001b[0;34m(*arrays)\u001b[0m\n\u001b[1;32m    395\u001b[0m uniques \u001b[38;5;241m=\u001b[39m np\u001b[38;5;241m.\u001b[39munique(lengths)\n\u001b[1;32m    396\u001b[0m \u001b[38;5;28;01mif\u001b[39;00m \u001b[38;5;28mlen\u001b[39m(uniques) \u001b[38;5;241m>\u001b[39m \u001b[38;5;241m1\u001b[39m:\n\u001b[0;32m--> 397\u001b[0m     \u001b[38;5;28;01mraise\u001b[39;00m \u001b[38;5;167;01mValueError\u001b[39;00m(\n\u001b[1;32m    398\u001b[0m         \u001b[38;5;124m\"\u001b[39m\u001b[38;5;124mFound input variables with inconsistent numbers of samples: \u001b[39m\u001b[38;5;132;01m%r\u001b[39;00m\u001b[38;5;124m\"\u001b[39m\n\u001b[1;32m    399\u001b[0m         \u001b[38;5;241m%\u001b[39m [\u001b[38;5;28mint\u001b[39m(l) \u001b[38;5;28;01mfor\u001b[39;00m l \u001b[38;5;129;01min\u001b[39;00m lengths]\n\u001b[1;32m    400\u001b[0m     )\n",
      "\u001b[0;31mValueError\u001b[0m: Found input variables with inconsistent numbers of samples: [15, 3432]"
     ]
    }
   ],
   "source": [
    "import pandas as pd\n",
    "import numpy as np\n",
    "from sklearn.feature_extraction.text import TfidfVectorizer\n",
    "from sklearn.model_selection import train_test_split\n",
    "from sklearn.ensemble import RandomForestClassifier\n",
    "from sklearn.metrics import accuracy_score, classification_report\n",
    "\n",
    "\n",
    "\n",
    "# Prepare data for modeling\n",
    "df = pd.read_csv(\"spotify_features_revised.csv\")\n",
    "X = df.drop(\"genre\", axis=1)\n",
    "y = df[\"genre\"]\n",
    "\n",
    "# Split data into training and testing sets\n",
    "X_train, X_test, y_train, y_test = train_test_split(X, y, test_size=0.2, random_state=42)\n",
    "\n",
    "# Create TF-IDF vectorizer for song titles\n",
    "vectorizer = TfidfVectorizer()\n",
    "\n",
    "# Fit vectorizer to training data\n",
    "vectorizer.fit(X_train)\n",
    "\n",
    "# Transform training and testing data\n",
    "X_train_tfidf = vectorizer.transform(X_train)\n",
    "X_test_tfidf = vectorizer.transform(X_test)\n",
    "\n",
    "# Train Random Forest classifier\n",
    "rfc = RandomForestClassifier(n_estimators=100, random_state=42)\n",
    "rfc.fit(X_train_tfidf, y_train)\n",
    "\n",
    "# Make predictions on testing data\n",
    "y_pred = rfc.predict(X_test_tfidf)\n",
    "\n",
    "# Evaluate model performance\n",
    "accuracy = accuracy_score(y_test, y_pred)\n",
    "print(\"Accuracy:\", accuracy)\n",
    "print(\"Classification Report:\")\n",
    "print(classification_report(y_test, y_pred))"
   ]
  },
  {
   "cell_type": "code",
   "execution_count": 4,
   "metadata": {},
   "outputs": [],
   "source": [
    "import spotipy\n",
    "from spotipy.oauth2 import SpotifyClientCredentials\n",
    "\n",
    "# Spotify API credentials\n",
    "\n",
    "client_id = \"4e94c7a00ce841cb97a1eb6b94715735\"\n",
    "client_secret = \"023e76405fdc4e68af511d30ef91d172\"\n",
    "\n",
    "# Authenticate with Spotify API\n",
    "sp = spotipy.Spotify(auth_manager=SpotifyClientCredentials(client_id=client_id, client_secret=client_secret))\n",
    "\n",
    "# Authenticate with Spotify API\n",
    "client_credentials_manager = SpotifyClientCredentials(client_id, client_secret)\n",
    "sp = spotipy.Spotify(client_credentials_manager=client_credentials_manager)\n",
    "\n",
    "# Retrieve song IDs and artist IDs from playlist\n",
    "playlist_id = \"7qn7AkdvLCmTnYNgCbv9Wo\"\n",
    "results = sp.playlist_tracks(playlist_id)\n",
    "\n",
    "song_ids = []\n",
    "artist_ids = []\n",
    "for item in results[\"items\"]:\n",
    "    song_ids.append(item[\"track\"][\"id\"])\n",
    "    artist_ids.append(item[\"track\"][\"artists\"][0][\"id\"])\n",
    "\n",
    "# Save song IDs and artist IDs to CSV\n",
    "import pandas as pd\n",
    "\n",
    "df_song_ids = pd.DataFrame({\"song_id\": song_ids})\n",
    "df_artist_ids = pd.DataFrame({\"artist_id\": artist_ids})\n",
    "\n",
    "df_song_ids.to_csv(\"song_ids.csv\", index=False)\n",
    "df_artist_ids.to_csv(\"artist_ids.csv\", index=False)"
   ]
  },
  {
   "cell_type": "code",
   "execution_count": null,
   "metadata": {},
   "outputs": [],
   "source": []
  }
 ],
 "metadata": {
  "kernelspec": {
   "display_name": "base",
   "language": "python",
   "name": "python3"
  },
  "language_info": {
   "codemirror_mode": {
    "name": "ipython",
    "version": 3
   },
   "file_extension": ".py",
   "mimetype": "text/x-python",
   "name": "python",
   "nbconvert_exporter": "python",
   "pygments_lexer": "ipython3",
   "version": "3.8.19"
  }
 },
 "nbformat": 4,
 "nbformat_minor": 2
}
