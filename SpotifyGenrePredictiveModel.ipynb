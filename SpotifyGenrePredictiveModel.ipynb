{
 "cells": [
  {
   "cell_type": "markdown",
   "metadata": {},
   "source": [
    "# Predicting Song Genres Using Spotify Data"
   ]
  },
  {
   "cell_type": "markdown",
   "metadata": {},
   "source": [
    "## Description"
   ]
  },
  {
   "cell_type": "markdown",
   "metadata": {},
   "source": [
    "This project aims to build a machine learning model that predicts the genre of a song using various metrics provided by Spotify. The goal is to create a predictive model that can  classify the genre of a song based on its features such as danceability, energy, tempo, and other characteristics. Additionally, this project will use the Spotify API to retrieve these song metrics for any new track, allowing us to make predictions on new songs."
   ]
  },
  {
   "cell_type": "markdown",
   "metadata": {},
   "source": [
    "### Workflow"
   ]
  },
  {
   "cell_type": "markdown",
   "metadata": {},
   "source": [
    "1. Collect Data\n",
    "    \n",
    "    Build a dataset within Spotify\n",
    "\n",
    "2. Preprocess Data:\n",
    "\n",
    "    Clean and preprocess dataset for model training.\n",
    "3. Train Models:\n",
    "    \n",
    "\n",
    "\n",
    "    Train models using the audio metrics as features and genre as target.\n",
    "    \n",
    "    Evaluate the model's performance using cross-validation and metrics (accuracy, F1-score).\n",
    "4. Evaluate Model Performance:\n",
    "\n",
    "    Check for the effectiveness of the model. Analyze predictios.\n",
    "5. Integrate Spotify API:\n",
    "    \n",
    "6. Make Predictions on New Songs:\n",
    "    \n",
    "    Use the trained machine learning model to predict the genre of any new song based on its Spotify audio features."
   ]
  },
  {
   "cell_type": "markdown",
   "metadata": {},
   "source": [
    "## Import Libraries"
   ]
  },
  {
   "cell_type": "code",
   "execution_count": 1,
   "metadata": {},
   "outputs": [
    {
     "name": "stderr",
     "output_type": "stream",
     "text": [
      "/Users/zoeyespinoza/anaconda3/lib/python3.10/site-packages/pandas/core/arrays/masked.py:60: UserWarning: Pandas requires version '1.3.6' or newer of 'bottleneck' (version '1.3.5' currently installed).\n",
      "  from pandas.core import (\n"
     ]
    }
   ],
   "source": [
    "import pandas as pd\n",
    "from sklearn.preprocessing import LabelEncoder, StandardScaler\n",
    "from sklearn.model_selection import train_test_split\n",
    "from sklearn.ensemble import RandomForestClassifier, GradientBoostingClassifier\n",
    "from sklearn.svm import SVC\n",
    "from sklearn.decomposition import PCA\n",
    "\n",
    "from sklearn.metrics import classification_report\n",
    "\n",
    "from sklearn.model_selection import GridSearchCV\n"
   ]
  },
  {
   "cell_type": "markdown",
   "metadata": {
    "vscode": {
     "languageId": "plaintext"
    }
   },
   "source": [
    "## Spotify API Setup"
   ]
  },
  {
   "cell_type": "code",
   "execution_count": 2,
   "metadata": {},
   "outputs": [
    {
     "name": "stdout",
     "output_type": "stream",
     "text": [
      "{'tracks': {'href': 'https://api.spotify.com/v1/search?query=breath+away&type=track&offset=0&limit=1', 'items': [{'album': {'album_type': 'album', 'artists': [{'external_urls': {'spotify': 'https://open.spotify.com/artist/0PCCGZ0wGLizHt2KZ7hhA2'}, 'href': 'https://api.spotify.com/v1/artists/0PCCGZ0wGLizHt2KZ7hhA2', 'id': '0PCCGZ0wGLizHt2KZ7hhA2', 'name': 'Artemas', 'type': 'artist', 'uri': 'spotify:artist:0PCCGZ0wGLizHt2KZ7hhA2'}], 'available_markets': ['AR', 'AU', 'AT', 'BE', 'BO', 'BR', 'BG', 'CA', 'CL', 'CO', 'CR', 'CY', 'CZ', 'DK', 'DO', 'DE', 'EC', 'EE', 'SV', 'FI', 'FR', 'GR', 'GT', 'HN', 'HK', 'HU', 'IS', 'IE', 'IT', 'LV', 'LT', 'LU', 'MY', 'MT', 'MX', 'NL', 'NZ', 'NI', 'NO', 'PA', 'PY', 'PE', 'PH', 'PL', 'PT', 'SG', 'SK', 'ES', 'SE', 'CH', 'TW', 'TR', 'UY', 'US', 'GB', 'AD', 'LI', 'MC', 'ID', 'JP', 'TH', 'VN', 'RO', 'IL', 'ZA', 'SA', 'AE', 'BH', 'QA', 'OM', 'KW', 'EG', 'MA', 'DZ', 'TN', 'LB', 'JO', 'PS', 'IN', 'KZ', 'MD', 'UA', 'AL', 'BA', 'HR', 'ME', 'MK', 'RS', 'SI', 'KR', 'BD', 'PK', 'LK', 'GH', 'KE', 'NG', 'TZ', 'UG', 'AG', 'AM', 'BS', 'BB', 'BZ', 'BT', 'BW', 'BF', 'CV', 'CW', 'DM', 'FJ', 'GM', 'GE', 'GD', 'GW', 'GY', 'HT', 'JM', 'KI', 'LS', 'LR', 'MW', 'MV', 'ML', 'MH', 'FM', 'NA', 'NR', 'NE', 'PW', 'PG', 'PR', 'WS', 'SM', 'ST', 'SN', 'SC', 'SL', 'SB', 'KN', 'LC', 'VC', 'SR', 'TL', 'TO', 'TT', 'TV', 'VU', 'AZ', 'BN', 'BI', 'KH', 'CM', 'TD', 'KM', 'GQ', 'SZ', 'GA', 'GN', 'KG', 'LA', 'MO', 'MR', 'MN', 'NP', 'RW', 'TG', 'UZ', 'ZW', 'BJ', 'MG', 'MU', 'MZ', 'AO', 'CI', 'DJ', 'ZM', 'CD', 'CG', 'IQ', 'LY', 'TJ', 'VE', 'ET', 'XK'], 'external_urls': {'spotify': 'https://open.spotify.com/album/2xpgb8R0BXVS2e1XnXI9xZ'}, 'href': 'https://api.spotify.com/v1/albums/2xpgb8R0BXVS2e1XnXI9xZ', 'id': '2xpgb8R0BXVS2e1XnXI9xZ', 'images': [{'height': 640, 'url': 'https://i.scdn.co/image/ab67616d0000b273fabe0943f6dd962a792b42a1', 'width': 640}, {'height': 300, 'url': 'https://i.scdn.co/image/ab67616d00001e02fabe0943f6dd962a792b42a1', 'width': 300}, {'height': 64, 'url': 'https://i.scdn.co/image/ab67616d00004851fabe0943f6dd962a792b42a1', 'width': 64}], 'name': 'pretty', 'release_date': '2024-02-09', 'release_date_precision': 'day', 'total_tracks': 13, 'type': 'album', 'uri': 'spotify:album:2xpgb8R0BXVS2e1XnXI9xZ'}, 'artists': [{'external_urls': {'spotify': 'https://open.spotify.com/artist/0PCCGZ0wGLizHt2KZ7hhA2'}, 'href': 'https://api.spotify.com/v1/artists/0PCCGZ0wGLizHt2KZ7hhA2', 'id': '0PCCGZ0wGLizHt2KZ7hhA2', 'name': 'Artemas', 'type': 'artist', 'uri': 'spotify:artist:0PCCGZ0wGLizHt2KZ7hhA2'}], 'available_markets': ['AR', 'AU', 'AT', 'BE', 'BO', 'BR', 'BG', 'CA', 'CL', 'CO', 'CR', 'CY', 'CZ', 'DK', 'DO', 'DE', 'EC', 'EE', 'SV', 'FI', 'FR', 'GR', 'GT', 'HN', 'HK', 'HU', 'IS', 'IE', 'IT', 'LV', 'LT', 'LU', 'MY', 'MT', 'MX', 'NL', 'NZ', 'NI', 'NO', 'PA', 'PY', 'PE', 'PH', 'PL', 'PT', 'SG', 'SK', 'ES', 'SE', 'CH', 'TW', 'TR', 'UY', 'US', 'GB', 'AD', 'LI', 'MC', 'ID', 'JP', 'TH', 'VN', 'RO', 'IL', 'ZA', 'SA', 'AE', 'BH', 'QA', 'OM', 'KW', 'EG', 'MA', 'DZ', 'TN', 'LB', 'JO', 'PS', 'IN', 'KZ', 'MD', 'UA', 'AL', 'BA', 'HR', 'ME', 'MK', 'RS', 'SI', 'KR', 'BD', 'PK', 'LK', 'GH', 'KE', 'NG', 'TZ', 'UG', 'AG', 'AM', 'BS', 'BB', 'BZ', 'BT', 'BW', 'BF', 'CV', 'CW', 'DM', 'FJ', 'GM', 'GE', 'GD', 'GW', 'GY', 'HT', 'JM', 'KI', 'LS', 'LR', 'MW', 'MV', 'ML', 'MH', 'FM', 'NA', 'NR', 'NE', 'PW', 'PG', 'PR', 'WS', 'SM', 'ST', 'SN', 'SC', 'SL', 'SB', 'KN', 'LC', 'VC', 'SR', 'TL', 'TO', 'TT', 'TV', 'VU', 'AZ', 'BN', 'BI', 'KH', 'CM', 'TD', 'KM', 'GQ', 'SZ', 'GA', 'GN', 'KG', 'LA', 'MO', 'MR', 'MN', 'NP', 'RW', 'TG', 'UZ', 'ZW', 'BJ', 'MG', 'MU', 'MZ', 'AO', 'CI', 'DJ', 'ZM', 'CD', 'CG', 'IQ', 'LY', 'TJ', 'VE', 'ET', 'XK'], 'disc_number': 1, 'duration_ms': 166849, 'explicit': True, 'external_ids': {'isrc': 'QZJ842400058'}, 'external_urls': {'spotify': 'https://open.spotify.com/track/1oic0Wedm3XeHxwaxmwO91'}, 'href': 'https://api.spotify.com/v1/tracks/1oic0Wedm3XeHxwaxmwO91', 'id': '1oic0Wedm3XeHxwaxmwO91', 'is_local': False, 'name': 'breath away', 'popularity': 57, 'preview_url': 'https://p.scdn.co/mp3-preview/b0dc83d0faf3100f0f159783ee7d9b993980ecef?cid=4e94c7a00ce841cb97a1eb6b94715735', 'track_number': 10, 'type': 'track', 'uri': 'spotify:track:1oic0Wedm3XeHxwaxmwO91'}], 'limit': 1, 'next': 'https://api.spotify.com/v1/search?query=breath+away&type=track&offset=1&limit=1', 'offset': 0, 'previous': None, 'total': 999}}\n"
     ]
    }
   ],
    "source": [
    "import spotipy\n",
    "from spotipy.oauth2 import SpotifyClientCredentials\n",
    "from spotipy.exceptions import SpotifyException\n",
    "from dotenv import load_dotenv\n",
    "import os\n",

    "\n",
    "\n",
    "load_dotenv()\n",
    "client_id = os.environ.get('client_id')\n",
    "client_secret = os.environ.get('client_secret')\n",
    "\n",
    "# Authenticate with Spotify API\n",
    "sp = spotipy.Spotify(auth_manager=SpotifyClientCredentials(client_id=client_id, client_secret=client_secret))\n",
    "\n",
    "# Test\n",
    "result = sp.search(q='breath away', type='track', limit=1)\n",
    "print(result)\n"
   ]
  },
  {
   "cell_type": "markdown",
   "metadata": {},
   "source": [
    "### Retreive Audio Features"
   ]
  },
  {
   "cell_type": "code",
   "execution_count": 3,
   "metadata": {},
   "outputs": [
    {
     "name": "stdout",
     "output_type": "stream",
     "text": [
      "{'danceability': 0.694, 'energy': 0.712, 'key': 11, 'loudness': -6.522, 'mode': 0, 'speechiness': 0.0759, 'acousticness': 0.707, 'instrumentalness': 0.0202, 'liveness': 0.263, 'valence': 0.233, 'tempo': 146.015, 'type': 'audio_features', 'id': '1oic0Wedm3XeHxwaxmwO91', 'uri': 'spotify:track:1oic0Wedm3XeHxwaxmwO91', 'track_href': 'https://api.spotify.com/v1/tracks/1oic0Wedm3XeHxwaxmwO91', 'analysis_url': 'https://api.spotify.com/v1/audio-analysis/1oic0Wedm3XeHxwaxmwO91', 'duration_ms': 166849, 'time_signature': 4}\n"
     ]
    }
   ],
   "source": [
    "def get_audio_features(track_id):\n",
    "    # get audio features for a specific track\n",
    "    features = sp.audio_features([track_id])\n",
    "    return features[0] \n",
    "\n",
    "track_id = result['tracks']['items'][0]['id']\n",
    "audio_features = get_audio_features(track_id)\n",
    "print(audio_features)\n"
   ]
  },
  {
   "cell_type": "markdown",
   "metadata": {},
   "source": [
    "## Building a Dataset"
   ]
  },
  {
   "cell_type": "code",
   "execution_count": 5,
   "metadata": {},
   "outputs": [
    {
     "name": "stdout",
     "output_type": "stream",
     "text": [
      "Collecting songs for genre: pop\n",
      "Collecting songs for genre: rock\n",
      "Collecting songs for genre: jazz\n",
      "Collecting songs for genre: classical\n",
      "Collecting songs for genre: hip-hop\n",
      "Collecting songs for genre: metal\n",
      "Collecting songs for genre: reggae\n",
      "Collecting songs for genre: blues\n",
      "Collecting songs for genre: country\n",
      "Collecting songs for genre: edm\n",
      "Collecting songs for genre: latin\n",
      "Collecting songs for genre: soul\n",
      "Collecting songs for genre: punk\n",
      "Collecting songs for genre: folk\n",
      "Collecting songs for genre: funk\n",
      "Collecting songs for genre: indie\n",
      "Collecting songs for genre: disco\n",
      "Collecting songs for genre: r&b\n",
      "Collecting songs for genre: gospel\n",
      "Collecting songs for genre: alternative\n",
      "   danceability  energy  key  loudness  mode  speechiness  acousticness  \\\n",
      "0         0.700   0.582   11    -5.960     0       0.0356        0.0502   \n",
      "1         0.747   0.507    2   -10.171     1       0.0358        0.2000   \n",
      "2         0.521   0.592    6    -7.777     0       0.0304        0.3080   \n",
      "3         0.674   0.907    3    -4.086     1       0.0640        0.1010   \n",
      "4         0.669   0.586    9    -6.073     1       0.0540        0.2740   \n",
      "\n",
      "   instrumentalness  liveness  valence    tempo            type  \\\n",
      "0            0.0000    0.0881    0.785  116.712  audio_features   \n",
      "1            0.0608    0.1170    0.438  104.978  audio_features   \n",
      "2            0.0000    0.1220    0.535  157.969  audio_features   \n",
      "3            0.0000    0.2970    0.721  112.964  audio_features   \n",
      "4            0.0000    0.1040    0.579  107.071  audio_features   \n",
      "\n",
      "                       id                                   uri  \\\n",
      "0  0WbMK4wrZ1wFSty9F7FCgu  spotify:track:0WbMK4wrZ1wFSty9F7FCgu   \n",
      "1  6dOtVTDdiauQNBQEDOtlAB  spotify:track:6dOtVTDdiauQNBQEDOtlAB   \n",
      "2  2plbrEY59IikOBgBGLjaoe  spotify:track:2plbrEY59IikOBgBGLjaoe   \n",
      "3  5G2f63n7IPVPPjfNIGih7Q  spotify:track:5G2f63n7IPVPPjfNIGih7Q   \n",
      "4  5N3hjp1WNayUPZrA8kJmJP  spotify:track:5N3hjp1WNayUPZrA8kJmJP   \n",
      "\n",
      "                                          track_href  \\\n",
      "0  https://api.spotify.com/v1/tracks/0WbMK4wrZ1wF...   \n",
      "1  https://api.spotify.com/v1/tracks/6dOtVTDdiauQ...   \n",
      "2  https://api.spotify.com/v1/tracks/2plbrEY59Iik...   \n",
      "3  https://api.spotify.com/v1/tracks/5G2f63n7IPVP...   \n",
      "4  https://api.spotify.com/v1/tracks/5N3hjp1WNayU...   \n",
      "\n",
      "                                        analysis_url  duration_ms  \\\n",
      "0  https://api.spotify.com/v1/audio-analysis/0WbM...       218424   \n",
      "1  https://api.spotify.com/v1/audio-analysis/6dOt...       210373   \n",
      "2  https://api.spotify.com/v1/audio-analysis/2plb...       251668   \n",
      "3  https://api.spotify.com/v1/audio-analysis/5G2f...       157280   \n",
      "4  https://api.spotify.com/v1/audio-analysis/5N3h...       186365   \n",
      "\n",
      "   time_signature genre  \n",
      "0               4   pop  \n",
      "1               4   pop  \n",
      "2               3   pop  \n",
      "3               4   pop  \n",
      "4               4   pop  \n"
     ]
    }
   ],
   "source": [
    "def search_songs_by_genre(genre, limit=10):\n",
    "    songs_data = []\n",
    "    results = sp.search(q=f'genre:{genre}', type='track', limit=limit)\n",
    "    \n",
    "    for track in results['tracks']['items']:\n",
    "        track_id = track['id']\n",
    "        audio_features = get_audio_features(track_id)\n",
    "        if audio_features:\n",
    "            audio_features['genre'] = genre\n",
    "            songs_data.append(audio_features)\n",
    "    \n",
    "    return songs_data\n",
    "\n",
    "# List of 20 genres\n",
    "genres = [\n",
    "    'pop', 'rock', 'jazz', 'classical', 'hip-hop', 'metal', 'reggae', 'blues',\n",
    "    'country', 'edm', 'latin', 'soul', 'punk', 'folk', 'funk', 'indie', 'disco',\n",
    "    'r&b', 'gospel', 'alternative'\n",
    "]\n",
    "\n",
    "all_songs_data = []\n",
    "\n",
    "for genre in genres:\n",
    "    print(f\"Collecting songs for genre: {genre}\")\n",
    "    genre_songs = search_songs_by_genre(genre, limit=50)  \n",
    "    all_songs_data.extend(genre_songs)\n",
    "\n",
    "df = pd.DataFrame(all_songs_data)\n",
    "\n",
    "print(df.head())  "
   ]
  },
  {
   "cell_type": "code",
   "execution_count": 11,
   "metadata": {},
   "outputs": [],
   "source": [
    "df.to_csv('genres.csv', index=False)"
   ]
  },
  {
   "cell_type": "markdown",
   "metadata": {},
   "source": [
    "## Data Preprocessing"
   ]
  },
  {
   "cell_type": "code",
   "execution_count": 12,
   "metadata": {},
   "outputs": [],
   "source": [
    "def preprocess_data(df):\n",
    "    df = df.drop(['id', 'uri', 'track_href', 'analysis_url', 'type'], axis=1)\n",
    "    \n",
    "    df = df.dropna()\n",
    "    \n",
    "    # Label encode the genre column\n",
    "    label_encoder = LabelEncoder()\n",
    "    df['genre'] = label_encoder.fit_transform(df['genre'])\n",
    "    \n",
    "    \n",
    "    X = df.drop(['genre'], axis=1)\n",
    "    y = df['genre']\n",
    "    \n",
    "    # Normalize  feature values\n",
    "    scaler = StandardScaler()\n",
    "    X_scaled = scaler.fit_transform(X)\n",
    "    \n",
    "    return X_scaled, y, label_encoder\n",
    "\n",
    "X, y, label_encoder = preprocess_data(df)\n"
   ]
  },
  {
   "cell_type": "markdown",
   "metadata": {},
   "source": [
    "## Train Machine Learning Model\n"
   ]
  },
  {
   "cell_type": "code",
   "execution_count": 13,
   "metadata": {},
   "outputs": [
    {
     "name": "stdout",
     "output_type": "stream",
     "text": [
      "Training Random Forest...\n",
      "Classification Report for Random Forest:\n",
      "              precision    recall  f1-score   support\n",
      "\n",
      " alternative       0.00      0.00      0.00        15\n",
      "       blues       0.00      0.00      0.00        16\n",
      "   classical       0.64      0.70      0.67        10\n",
      "     country       0.11      0.27      0.16        11\n",
      "       disco       0.54      0.44      0.48        16\n",
      "         edm       0.12      0.15      0.14        13\n",
      "        folk       0.18      0.12      0.14        17\n",
      "        funk       0.15      0.25      0.19        12\n",
      "      gospel       0.65      0.55      0.59        20\n",
      "     hip-hop       0.25      0.18      0.21        17\n",
      "       indie       0.00      0.00      0.00        11\n",
      "        jazz       0.13      0.20      0.16        10\n",
      "       latin       0.16      0.16      0.16        19\n",
      "       metal       0.09      0.05      0.06        20\n",
      "         pop       0.25      0.20      0.22        15\n",
      "        punk       0.25      0.38      0.30        13\n",
      "         r&b       0.11      0.08      0.09        13\n",
      "      reggae       0.22      0.28      0.24        18\n",
      "        rock       0.00      0.00      0.00        20\n",
      "        soul       0.11      0.07      0.09        14\n",
      "\n",
      "    accuracy                           0.20       300\n",
      "   macro avg       0.20      0.20      0.20       300\n",
      "weighted avg       0.20      0.20      0.19       300\n",
      "\n",
      "Training Support Vector Machine (SVM)...\n",
      "Classification Report for Support Vector Machine (SVM):\n",
      "              precision    recall  f1-score   support\n",
      "\n",
      " alternative       0.00      0.00      0.00        15\n",
      "       blues       0.00      0.00      0.00        16\n",
      "   classical       0.80      0.80      0.80        10\n",
      "     country       0.15      0.45      0.22        11\n",
      "       disco       0.40      0.38      0.39        16\n",
      "         edm       0.12      0.23      0.16        13\n",
      "        folk       0.29      0.12      0.17        17\n",
      "        funk       0.10      0.25      0.15        12\n",
      "      gospel       0.75      0.30      0.43        20\n",
      "     hip-hop       0.38      0.29      0.33        17\n",
      "       indie       0.00      0.00      0.00        11\n",
      "        jazz       0.11      0.20      0.14        10\n",
      "       latin       0.29      0.32      0.30        19\n",
      "       metal       0.18      0.10      0.13        20\n",
      "         pop       0.22      0.27      0.24        15\n",
      "        punk       0.19      0.38      0.25        13\n",
      "         r&b       0.33      0.23      0.27        13\n",
      "      reggae       0.30      0.17      0.21        18\n",
      "        rock       0.00      0.00      0.00        20\n",
      "        soul       0.09      0.07      0.08        14\n",
      "\n",
      "    accuracy                           0.21       300\n",
      "   macro avg       0.24      0.23      0.21       300\n",
      "weighted avg       0.24      0.21      0.21       300\n",
      "\n",
      "Training Gradient Boosting...\n",
      "Classification Report for Gradient Boosting:\n",
      "              precision    recall  f1-score   support\n",
      "\n",
      " alternative       0.05      0.07      0.06        15\n",
      "       blues       0.08      0.06      0.07        16\n",
      "   classical       0.70      0.70      0.70        10\n",
      "     country       0.04      0.09      0.06        11\n",
      "       disco       0.33      0.19      0.24        16\n",
      "         edm       0.21      0.23      0.22        13\n",
      "        folk       0.30      0.18      0.22        17\n",
      "        funk       0.15      0.33      0.21        12\n",
      "      gospel       0.62      0.50      0.56        20\n",
      "     hip-hop       0.43      0.18      0.25        17\n",
      "       indie       0.05      0.09      0.07        11\n",
      "        jazz       0.22      0.40      0.29        10\n",
      "       latin       0.12      0.11      0.11        19\n",
      "       metal       0.12      0.10      0.11        20\n",
      "         pop       0.11      0.07      0.08        15\n",
      "        punk       0.24      0.31      0.27        13\n",
      "         r&b       0.17      0.15      0.16        13\n",
      "      reggae       0.17      0.17      0.17        18\n",
      "        rock       0.00      0.00      0.00        20\n",
      "        soul       0.06      0.07      0.07        14\n",
      "\n",
      "    accuracy                           0.19       300\n",
      "   macro avg       0.21      0.20      0.20       300\n",
      "weighted avg       0.21      0.19      0.19       300\n",
      "\n"
     ]
    }
   ],
   "source": [
    "X_train, X_test, y_train, y_test = train_test_split(X, y, test_size=0.3, random_state=42)\n",
    "\n",
    "models = {\n",
    "    \"Random Forest\": RandomForestClassifier(n_estimators=100, random_state=42),\n",
    "    \"Support Vector Machine (SVM)\": SVC(kernel='linear'),  # You can also try 'rbf' kernel\n",
    "    \"Gradient Boosting\": GradientBoostingClassifier(n_estimators=100, random_state=42)\n",
    "}\n",
    "\n",
    "model_performance = {}\n",
    "\n",
    "for model_name, model in models.items():\n",
    "    print(f\"Training {model_name}...\")\n",
    "    model.fit(X_train, y_train)  \n",
    "    y_pred = model.predict(X_test)  \n",
    "    \n",
    "    # Generate classification report\n",
    "    print(f\"Classification Report for {model_name}:\")\n",
    "    report = classification_report(y_test, y_pred, target_names=label_encoder.classes_)\n",
    "    print(report)\n",
    "    \n",
    "    model_performance[model_name] = report\n"
   ]
  },
  {
   "cell_type": "code",
   "execution_count": 14,
   "metadata": {},
   "outputs": [
    {
     "name": "stdout",
     "output_type": "stream",
     "text": [
      "Random Forest Classification Report:\n",
      "              precision    recall  f1-score   support\n",
      "\n",
      " alternative       0.00      0.00      0.00        15\n",
      "       blues       0.00      0.00      0.00        16\n",
      "   classical       0.64      0.70      0.67        10\n",
      "     country       0.11      0.27      0.16        11\n",
      "       disco       0.54      0.44      0.48        16\n",
      "         edm       0.12      0.15      0.14        13\n",
      "        folk       0.18      0.12      0.14        17\n",
      "        funk       0.15      0.25      0.19        12\n",
      "      gospel       0.65      0.55      0.59        20\n",
      "     hip-hop       0.25      0.18      0.21        17\n",
      "       indie       0.00      0.00      0.00        11\n",
      "        jazz       0.13      0.20      0.16        10\n",
      "       latin       0.16      0.16      0.16        19\n",
      "       metal       0.09      0.05      0.06        20\n",
      "         pop       0.25      0.20      0.22        15\n",
      "        punk       0.25      0.38      0.30        13\n",
      "         r&b       0.11      0.08      0.09        13\n",
      "      reggae       0.22      0.28      0.24        18\n",
      "        rock       0.00      0.00      0.00        20\n",
      "        soul       0.11      0.07      0.09        14\n",
      "\n",
      "    accuracy                           0.20       300\n",
      "   macro avg       0.20      0.20      0.20       300\n",
      "weighted avg       0.20      0.20      0.19       300\n",
      "\n",
      "Gradient Boosting Classification Report:\n",
      "              precision    recall  f1-score   support\n",
      "\n",
      " alternative       0.05      0.07      0.06        15\n",
      "       blues       0.08      0.06      0.07        16\n",
      "   classical       0.70      0.70      0.70        10\n",
      "     country       0.04      0.09      0.06        11\n",
      "       disco       0.33      0.19      0.24        16\n",
      "         edm       0.21      0.23      0.22        13\n",
      "        folk       0.30      0.18      0.22        17\n",
      "        funk       0.15      0.33      0.21        12\n",
      "      gospel       0.62      0.50      0.56        20\n",
      "     hip-hop       0.43      0.18      0.25        17\n",
      "       indie       0.05      0.09      0.07        11\n",
      "        jazz       0.22      0.40      0.29        10\n",
      "       latin       0.12      0.11      0.11        19\n",
      "       metal       0.12      0.10      0.11        20\n",
      "         pop       0.11      0.07      0.08        15\n",
      "        punk       0.24      0.31      0.27        13\n",
      "         r&b       0.17      0.15      0.16        13\n",
      "      reggae       0.17      0.17      0.17        18\n",
      "        rock       0.00      0.00      0.00        20\n",
      "        soul       0.06      0.07      0.07        14\n",
      "\n",
      "    accuracy                           0.19       300\n",
      "   macro avg       0.21      0.20      0.20       300\n",
      "weighted avg       0.21      0.19      0.19       300\n",
      "\n"
     ]
    }
   ],
   "source": [
    "# Random Forest\n",
    "model_rf = RandomForestClassifier(n_estimators=100, random_state=42)\n",
    "model_rf.fit(X_train, y_train)\n",
    "y_pred_rf = model_rf.predict(X_test)\n",
    "print(\"Random Forest Classification Report:\")\n",
    "print(classification_report(y_test, y_pred_rf, target_names=label_encoder.classes_))\n",
    "\n",
    "# Gradient Boosting\n",
    "model_gb = GradientBoostingClassifier(n_estimators=100, random_state=42)\n",
    "model_gb.fit(X_train, y_train)\n",
    "y_pred_gb = model_gb.predict(X_test)\n",
    "print(\"Gradient Boosting Classification Report:\")\n",
    "print(classification_report(y_test, y_pred_gb, target_names=label_encoder.classes_))\n"
   ]
  },
  {
   "cell_type": "code",
   "execution_count": 15,
   "metadata": {},
   "outputs": [
    {
     "name": "stdout",
     "output_type": "stream",
     "text": [
      "SVM with PCA Classification Report:\n",
      "              precision    recall  f1-score   support\n",
      "\n",
      " alternative       0.18      0.20      0.19        15\n",
      "       blues       0.00      0.00      0.00        16\n",
      "   classical       0.75      0.60      0.67        10\n",
      "     country       0.14      0.45      0.21        11\n",
      "       disco       0.33      0.25      0.29        16\n",
      "         edm       0.11      0.15      0.12        13\n",
      "        folk       0.40      0.24      0.30        17\n",
      "        funk       0.11      0.33      0.17        12\n",
      "      gospel       0.89      0.40      0.55        20\n",
      "     hip-hop       0.24      0.24      0.24        17\n",
      "       indie       0.00      0.00      0.00        11\n",
      "        jazz       0.11      0.20      0.14        10\n",
      "       latin       0.14      0.11      0.12        19\n",
      "       metal       0.20      0.10      0.13        20\n",
      "         pop       0.25      0.27      0.26        15\n",
      "        punk       0.22      0.46      0.30        13\n",
      "         r&b       0.33      0.15      0.21        13\n",
      "      reggae       0.33      0.39      0.36        18\n",
      "        rock       0.00      0.00      0.00        20\n",
      "        soul       0.00      0.00      0.00        14\n",
      "\n",
      "    accuracy                           0.22       300\n",
      "   macro avg       0.24      0.23      0.21       300\n",
      "weighted avg       0.24      0.22      0.21       300\n",
      "\n"
     ]
    }
   ],
   "source": [
    "pca = PCA(n_components=10)\n",
    "X_train_pca = pca.fit_transform(X_train)\n",
    "X_test_pca = pca.transform(X_test)\n",
    "\n",
    "model_svm_pca = SVC(kernel='linear')\n",
    "model_svm_pca.fit(X_train_pca, y_train)\n",
    "y_pred_svm_pca = model_svm_pca.predict(X_test_pca)\n",
    "\n",
    "print(\"SVM with PCA Classification Report:\")\n",
    "print(classification_report(y_test, y_pred_svm_pca, target_names=label_encoder.classes_))\n"
   ]
  },
  {
   "cell_type": "code",
   "execution_count": 16,
   "metadata": {},
   "outputs": [
    {
     "name": "stdout",
     "output_type": "stream",
     "text": [
      "Random Forest with Class Weights Classification Report:\n",
      "              precision    recall  f1-score   support\n",
      "\n",
      " alternative       0.00      0.00      0.00        15\n",
      "       blues       0.00      0.00      0.00        16\n",
      "   classical       0.75      0.90      0.82        10\n",
      "     country       0.08      0.18      0.11        11\n",
      "       disco       0.58      0.44      0.50        16\n",
      "         edm       0.21      0.38      0.27        13\n",
      "        folk       0.33      0.18      0.23        17\n",
      "        funk       0.27      0.33      0.30        12\n",
      "      gospel       0.69      0.55      0.61        20\n",
      "     hip-hop       0.33      0.24      0.28        17\n",
      "       indie       0.00      0.00      0.00        11\n",
      "        jazz       0.14      0.20      0.17        10\n",
      "       latin       0.21      0.26      0.23        19\n",
      "       metal       0.15      0.10      0.12        20\n",
      "         pop       0.25      0.20      0.22        15\n",
      "        punk       0.21      0.31      0.25        13\n",
      "         r&b       0.11      0.08      0.09        13\n",
      "      reggae       0.15      0.17      0.16        18\n",
      "        rock       0.00      0.00      0.00        20\n",
      "        soul       0.09      0.07      0.08        14\n",
      "\n",
      "    accuracy                           0.22       300\n",
      "   macro avg       0.23      0.23      0.22       300\n",
      "weighted avg       0.23      0.22      0.22       300\n",
      "\n"
     ]
    }
   ],
   "source": [
    "# Random Forest with class weights\n",
    "model_rf_weighted = RandomForestClassifier(n_estimators=100, random_state=42, class_weight='balanced')\n",
    "model_rf_weighted.fit(X_train, y_train)\n",
    "y_pred_rf_weighted = model_rf_weighted.predict(X_test)\n",
    "\n",
    "print(\"Random Forest with Class Weights Classification Report:\")\n",
    "print(classification_report(y_test, y_pred_rf_weighted, target_names=label_encoder.classes_))\n"
   ]
  },
  {
   "cell_type": "markdown",
   "metadata": {},
   "source": [
    "# Conclusions"
   ]
  }
 ],
 "metadata": {
  "kernelspec": {
   "display_name": "base",
   "language": "python",
   "name": "python3"
  },
  "language_info": {
   "codemirror_mode": {
    "name": "ipython",
    "version": 3
   },
   "file_extension": ".py",
   "mimetype": "text/x-python",
   "name": "python",
   "nbconvert_exporter": "python",
   "pygments_lexer": "ipython3",
   "version": "3.10.9"
  }
 },
 "nbformat": 4,
 "nbformat_minor": 2
}
